{
 "cells": [
  {
   "cell_type": "markdown",
   "id": "c8a52584",
   "metadata": {},
   "source": [
    "# Métodos para redução de dimensionalidade desse capítulo:\n",
    "1. Baixa variância\n",
    "2. Alta proporção de missing\n",
    "3. Variáveis correlacionadas"
   ]
  },
  {
   "cell_type": "code",
   "execution_count": 38,
   "id": "49527930",
   "metadata": {},
   "outputs": [],
   "source": [
    "import pandas as pd\n",
    "import numpy as np\n",
    "from sklearn.feature_selection import VarianceThreshold\n",
    "import seaborn as sns"
   ]
  },
  {
   "cell_type": "code",
   "execution_count": 22,
   "id": "6ef8c788",
   "metadata": {},
   "outputs": [],
   "source": [
    "ansur_df = pd.read_csv(\"../dados/ansur_df.csv\")"
   ]
  },
  {
   "cell_type": "code",
   "execution_count": 4,
   "id": "092151c1",
   "metadata": {},
   "outputs": [],
   "source": [
    "ansur_df=ansur_df.select_dtypes(include=[\"int\"])"
   ]
  },
  {
   "cell_type": "code",
   "execution_count": 5,
   "id": "49df65f0",
   "metadata": {},
   "outputs": [
    {
     "data": {
      "text/plain": [
       "(4082, 91)"
      ]
     },
     "execution_count": 5,
     "metadata": {},
     "output_type": "execute_result"
    }
   ],
   "source": [
    "ansur_df.shape"
   ]
  },
  {
   "cell_type": "code",
   "execution_count": 23,
   "id": "aaba8f6e",
   "metadata": {},
   "outputs": [
    {
     "data": {
      "text/html": [
       "<div>\n",
       "<style scoped>\n",
       "    .dataframe tbody tr th:only-of-type {\n",
       "        vertical-align: middle;\n",
       "    }\n",
       "\n",
       "    .dataframe tbody tr th {\n",
       "        vertical-align: top;\n",
       "    }\n",
       "\n",
       "    .dataframe thead th {\n",
       "        text-align: right;\n",
       "    }\n",
       "</style>\n",
       "<table border=\"1\" class=\"dataframe\">\n",
       "  <thead>\n",
       "    <tr style=\"text-align: right;\">\n",
       "      <th></th>\n",
       "      <th>Branch</th>\n",
       "      <th>Component</th>\n",
       "      <th>Gender</th>\n",
       "      <th>abdominalextensiondepthsitting</th>\n",
       "      <th>acromialheight</th>\n",
       "      <th>acromionradialelength</th>\n",
       "      <th>anklecircumference</th>\n",
       "      <th>axillaheight</th>\n",
       "      <th>balloffootcircumference</th>\n",
       "      <th>balloffootlength</th>\n",
       "      <th>...</th>\n",
       "      <th>waistdepth</th>\n",
       "      <th>waistfrontlengthsitting</th>\n",
       "      <th>waistheightomphalion</th>\n",
       "      <th>wristcircumference</th>\n",
       "      <th>wristheight</th>\n",
       "      <th>weight_kg</th>\n",
       "      <th>stature_m</th>\n",
       "      <th>BMI</th>\n",
       "      <th>BMI_class</th>\n",
       "      <th>Height_class</th>\n",
       "    </tr>\n",
       "  </thead>\n",
       "  <tbody>\n",
       "    <tr>\n",
       "      <th>0</th>\n",
       "      <td>Combat Arms</td>\n",
       "      <td>Regular Army</td>\n",
       "      <td>Male</td>\n",
       "      <td>266</td>\n",
       "      <td>1467</td>\n",
       "      <td>337</td>\n",
       "      <td>222</td>\n",
       "      <td>1347</td>\n",
       "      <td>253</td>\n",
       "      <td>202</td>\n",
       "      <td>...</td>\n",
       "      <td>240</td>\n",
       "      <td>440</td>\n",
       "      <td>1054</td>\n",
       "      <td>175</td>\n",
       "      <td>853</td>\n",
       "      <td>81.5</td>\n",
       "      <td>1.776</td>\n",
       "      <td>25.838761</td>\n",
       "      <td>Overweight</td>\n",
       "      <td>Tall</td>\n",
       "    </tr>\n",
       "    <tr>\n",
       "      <th>1</th>\n",
       "      <td>Combat Support</td>\n",
       "      <td>Regular Army</td>\n",
       "      <td>Male</td>\n",
       "      <td>233</td>\n",
       "      <td>1395</td>\n",
       "      <td>326</td>\n",
       "      <td>220</td>\n",
       "      <td>1293</td>\n",
       "      <td>245</td>\n",
       "      <td>193</td>\n",
       "      <td>...</td>\n",
       "      <td>225</td>\n",
       "      <td>371</td>\n",
       "      <td>1054</td>\n",
       "      <td>167</td>\n",
       "      <td>815</td>\n",
       "      <td>72.6</td>\n",
       "      <td>1.702</td>\n",
       "      <td>25.062103</td>\n",
       "      <td>Overweight</td>\n",
       "      <td>Normal</td>\n",
       "    </tr>\n",
       "    <tr>\n",
       "      <th>2</th>\n",
       "      <td>Combat Support</td>\n",
       "      <td>Regular Army</td>\n",
       "      <td>Male</td>\n",
       "      <td>287</td>\n",
       "      <td>1430</td>\n",
       "      <td>341</td>\n",
       "      <td>230</td>\n",
       "      <td>1327</td>\n",
       "      <td>256</td>\n",
       "      <td>196</td>\n",
       "      <td>...</td>\n",
       "      <td>255</td>\n",
       "      <td>411</td>\n",
       "      <td>1041</td>\n",
       "      <td>180</td>\n",
       "      <td>831</td>\n",
       "      <td>92.9</td>\n",
       "      <td>1.735</td>\n",
       "      <td>30.861480</td>\n",
       "      <td>Overweight</td>\n",
       "      <td>Normal</td>\n",
       "    </tr>\n",
       "    <tr>\n",
       "      <th>3</th>\n",
       "      <td>Combat Service Support</td>\n",
       "      <td>Regular Army</td>\n",
       "      <td>Male</td>\n",
       "      <td>234</td>\n",
       "      <td>1347</td>\n",
       "      <td>310</td>\n",
       "      <td>230</td>\n",
       "      <td>1239</td>\n",
       "      <td>262</td>\n",
       "      <td>199</td>\n",
       "      <td>...</td>\n",
       "      <td>205</td>\n",
       "      <td>399</td>\n",
       "      <td>968</td>\n",
       "      <td>176</td>\n",
       "      <td>793</td>\n",
       "      <td>79.4</td>\n",
       "      <td>1.655</td>\n",
       "      <td>28.988417</td>\n",
       "      <td>Overweight</td>\n",
       "      <td>Normal</td>\n",
       "    </tr>\n",
       "    <tr>\n",
       "      <th>4</th>\n",
       "      <td>Combat Service Support</td>\n",
       "      <td>Regular Army</td>\n",
       "      <td>Male</td>\n",
       "      <td>250</td>\n",
       "      <td>1585</td>\n",
       "      <td>372</td>\n",
       "      <td>247</td>\n",
       "      <td>1478</td>\n",
       "      <td>267</td>\n",
       "      <td>224</td>\n",
       "      <td>...</td>\n",
       "      <td>214</td>\n",
       "      <td>379</td>\n",
       "      <td>1245</td>\n",
       "      <td>188</td>\n",
       "      <td>954</td>\n",
       "      <td>94.6</td>\n",
       "      <td>1.914</td>\n",
       "      <td>25.823034</td>\n",
       "      <td>Overweight</td>\n",
       "      <td>Tall</td>\n",
       "    </tr>\n",
       "  </tbody>\n",
       "</table>\n",
       "<p>5 rows × 99 columns</p>\n",
       "</div>"
      ],
      "text/plain": [
       "                   Branch     Component Gender  \\\n",
       "0             Combat Arms  Regular Army   Male   \n",
       "1          Combat Support  Regular Army   Male   \n",
       "2          Combat Support  Regular Army   Male   \n",
       "3  Combat Service Support  Regular Army   Male   \n",
       "4  Combat Service Support  Regular Army   Male   \n",
       "\n",
       "   abdominalextensiondepthsitting  acromialheight  acromionradialelength  \\\n",
       "0                             266            1467                    337   \n",
       "1                             233            1395                    326   \n",
       "2                             287            1430                    341   \n",
       "3                             234            1347                    310   \n",
       "4                             250            1585                    372   \n",
       "\n",
       "   anklecircumference  axillaheight  balloffootcircumference  \\\n",
       "0                 222          1347                      253   \n",
       "1                 220          1293                      245   \n",
       "2                 230          1327                      256   \n",
       "3                 230          1239                      262   \n",
       "4                 247          1478                      267   \n",
       "\n",
       "   balloffootlength  ...  waistdepth  waistfrontlengthsitting  \\\n",
       "0               202  ...         240                      440   \n",
       "1               193  ...         225                      371   \n",
       "2               196  ...         255                      411   \n",
       "3               199  ...         205                      399   \n",
       "4               224  ...         214                      379   \n",
       "\n",
       "   waistheightomphalion  wristcircumference  wristheight  weight_kg  \\\n",
       "0                  1054                 175          853       81.5   \n",
       "1                  1054                 167          815       72.6   \n",
       "2                  1041                 180          831       92.9   \n",
       "3                   968                 176          793       79.4   \n",
       "4                  1245                 188          954       94.6   \n",
       "\n",
       "   stature_m        BMI   BMI_class  Height_class  \n",
       "0      1.776  25.838761  Overweight          Tall  \n",
       "1      1.702  25.062103  Overweight        Normal  \n",
       "2      1.735  30.861480  Overweight        Normal  \n",
       "3      1.655  28.988417  Overweight        Normal  \n",
       "4      1.914  25.823034  Overweight          Tall  \n",
       "\n",
       "[5 rows x 99 columns]"
      ]
     },
     "execution_count": 23,
     "metadata": {},
     "output_type": "execute_result"
    }
   ],
   "source": [
    "ansur_df.head()"
   ]
  },
  {
   "cell_type": "markdown",
   "id": "254d602c",
   "metadata": {},
   "source": [
    "## Uma das formas de selecionar variáveis é descartar elas quando possuem baixa variância, quando uma coluna possue todos os valores iguais a variância é 0."
   ]
  },
  {
   "cell_type": "code",
   "execution_count": 8,
   "id": "c12a7e10",
   "metadata": {},
   "outputs": [
    {
     "data": {
      "text/html": [
       "<div>\n",
       "<style scoped>\n",
       "    .dataframe tbody tr th:only-of-type {\n",
       "        vertical-align: middle;\n",
       "    }\n",
       "\n",
       "    .dataframe tbody tr th {\n",
       "        vertical-align: top;\n",
       "    }\n",
       "\n",
       "    .dataframe thead th {\n",
       "        text-align: right;\n",
       "    }\n",
       "</style>\n",
       "<table border=\"1\" class=\"dataframe\">\n",
       "  <thead>\n",
       "    <tr style=\"text-align: right;\">\n",
       "      <th></th>\n",
       "      <th>abdominalextensiondepthsitting</th>\n",
       "      <th>acromialheight</th>\n",
       "      <th>acromionradialelength</th>\n",
       "      <th>anklecircumference</th>\n",
       "      <th>axillaheight</th>\n",
       "      <th>balloffootcircumference</th>\n",
       "      <th>balloffootlength</th>\n",
       "      <th>biacromialbreadth</th>\n",
       "      <th>bicepscircumferenceflexed</th>\n",
       "      <th>bicristalbreadth</th>\n",
       "      <th>...</th>\n",
       "      <th>trochanterionheight</th>\n",
       "      <th>verticaltrunkcircumferenceusa</th>\n",
       "      <th>waistbacklength</th>\n",
       "      <th>waistbreadth</th>\n",
       "      <th>waistcircumference</th>\n",
       "      <th>waistdepth</th>\n",
       "      <th>waistfrontlengthsitting</th>\n",
       "      <th>waistheightomphalion</th>\n",
       "      <th>wristcircumference</th>\n",
       "      <th>wristheight</th>\n",
       "    </tr>\n",
       "  </thead>\n",
       "  <tbody>\n",
       "    <tr>\n",
       "      <th>count</th>\n",
       "      <td>4082.000000</td>\n",
       "      <td>4082.000000</td>\n",
       "      <td>4082.000000</td>\n",
       "      <td>4082.000000</td>\n",
       "      <td>4082.000000</td>\n",
       "      <td>4082.000000</td>\n",
       "      <td>4082.000000</td>\n",
       "      <td>4082.000000</td>\n",
       "      <td>4082.000000</td>\n",
       "      <td>4082.000000</td>\n",
       "      <td>...</td>\n",
       "      <td>4082.000000</td>\n",
       "      <td>4082.000000</td>\n",
       "      <td>4082.000000</td>\n",
       "      <td>4082.000000</td>\n",
       "      <td>4082.000000</td>\n",
       "      <td>4082.000000</td>\n",
       "      <td>4082.000000</td>\n",
       "      <td>4082.000000</td>\n",
       "      <td>4082.000000</td>\n",
       "      <td>4082.000000</td>\n",
       "    </tr>\n",
       "    <tr>\n",
       "      <th>mean</th>\n",
       "      <td>254.650906</td>\n",
       "      <td>1440.736894</td>\n",
       "      <td>335.244488</td>\n",
       "      <td>229.343949</td>\n",
       "      <td>1329.082068</td>\n",
       "      <td>252.017148</td>\n",
       "      <td>200.935081</td>\n",
       "      <td>415.675649</td>\n",
       "      <td>358.135718</td>\n",
       "      <td>275.433366</td>\n",
       "      <td>...</td>\n",
       "      <td>900.930671</td>\n",
       "      <td>1664.804263</td>\n",
       "      <td>477.612445</td>\n",
       "      <td>326.437286</td>\n",
       "      <td>940.577413</td>\n",
       "      <td>237.771436</td>\n",
       "      <td>387.642822</td>\n",
       "      <td>1056.485301</td>\n",
       "      <td>175.916707</td>\n",
       "      <td>847.511514</td>\n",
       "    </tr>\n",
       "    <tr>\n",
       "      <th>std</th>\n",
       "      <td>37.327178</td>\n",
       "      <td>63.287242</td>\n",
       "      <td>17.482795</td>\n",
       "      <td>14.649102</td>\n",
       "      <td>59.516123</td>\n",
       "      <td>12.936131</td>\n",
       "      <td>10.470947</td>\n",
       "      <td>19.161654</td>\n",
       "      <td>34.618093</td>\n",
       "      <td>17.513508</td>\n",
       "      <td>...</td>\n",
       "      <td>49.171657</td>\n",
       "      <td>89.528418</td>\n",
       "      <td>27.728286</td>\n",
       "      <td>34.738095</td>\n",
       "      <td>111.705875</td>\n",
       "      <td>34.732597</td>\n",
       "      <td>29.349007</td>\n",
       "      <td>52.154671</td>\n",
       "      <td>8.955055</td>\n",
       "      <td>41.655628</td>\n",
       "    </tr>\n",
       "    <tr>\n",
       "      <th>min</th>\n",
       "      <td>163.000000</td>\n",
       "      <td>1194.000000</td>\n",
       "      <td>270.000000</td>\n",
       "      <td>156.000000</td>\n",
       "      <td>1106.000000</td>\n",
       "      <td>186.000000</td>\n",
       "      <td>156.000000</td>\n",
       "      <td>337.000000</td>\n",
       "      <td>246.000000</td>\n",
       "      <td>219.000000</td>\n",
       "      <td>...</td>\n",
       "      <td>731.000000</td>\n",
       "      <td>1361.000000</td>\n",
       "      <td>383.000000</td>\n",
       "      <td>232.000000</td>\n",
       "      <td>648.000000</td>\n",
       "      <td>151.000000</td>\n",
       "      <td>293.000000</td>\n",
       "      <td>876.000000</td>\n",
       "      <td>141.000000</td>\n",
       "      <td>695.000000</td>\n",
       "    </tr>\n",
       "    <tr>\n",
       "      <th>25%</th>\n",
       "      <td>227.000000</td>\n",
       "      <td>1398.000000</td>\n",
       "      <td>324.000000</td>\n",
       "      <td>219.250000</td>\n",
       "      <td>1289.000000</td>\n",
       "      <td>243.000000</td>\n",
       "      <td>194.000000</td>\n",
       "      <td>403.000000</td>\n",
       "      <td>335.000000</td>\n",
       "      <td>263.000000</td>\n",
       "      <td>...</td>\n",
       "      <td>867.000000</td>\n",
       "      <td>1605.000000</td>\n",
       "      <td>459.250000</td>\n",
       "      <td>301.000000</td>\n",
       "      <td>857.000000</td>\n",
       "      <td>212.000000</td>\n",
       "      <td>367.000000</td>\n",
       "      <td>1020.000000</td>\n",
       "      <td>170.000000</td>\n",
       "      <td>819.000000</td>\n",
       "    </tr>\n",
       "    <tr>\n",
       "      <th>50%</th>\n",
       "      <td>251.000000</td>\n",
       "      <td>1439.000000</td>\n",
       "      <td>335.000000</td>\n",
       "      <td>228.000000</td>\n",
       "      <td>1328.000000</td>\n",
       "      <td>252.000000</td>\n",
       "      <td>201.000000</td>\n",
       "      <td>415.000000</td>\n",
       "      <td>357.000000</td>\n",
       "      <td>275.000000</td>\n",
       "      <td>...</td>\n",
       "      <td>899.000000</td>\n",
       "      <td>1664.000000</td>\n",
       "      <td>477.000000</td>\n",
       "      <td>325.000000</td>\n",
       "      <td>937.000000</td>\n",
       "      <td>234.000000</td>\n",
       "      <td>386.000000</td>\n",
       "      <td>1055.000000</td>\n",
       "      <td>176.000000</td>\n",
       "      <td>847.000000</td>\n",
       "    </tr>\n",
       "    <tr>\n",
       "      <th>75%</th>\n",
       "      <td>279.000000</td>\n",
       "      <td>1481.000000</td>\n",
       "      <td>346.000000</td>\n",
       "      <td>239.000000</td>\n",
       "      <td>1367.000000</td>\n",
       "      <td>261.000000</td>\n",
       "      <td>208.000000</td>\n",
       "      <td>428.000000</td>\n",
       "      <td>380.000000</td>\n",
       "      <td>288.000000</td>\n",
       "      <td>...</td>\n",
       "      <td>932.000000</td>\n",
       "      <td>1722.750000</td>\n",
       "      <td>495.000000</td>\n",
       "      <td>350.000000</td>\n",
       "      <td>1016.000000</td>\n",
       "      <td>261.000000</td>\n",
       "      <td>407.000000</td>\n",
       "      <td>1090.000000</td>\n",
       "      <td>182.000000</td>\n",
       "      <td>875.000000</td>\n",
       "    </tr>\n",
       "    <tr>\n",
       "      <th>max</th>\n",
       "      <td>451.000000</td>\n",
       "      <td>1683.000000</td>\n",
       "      <td>393.000000</td>\n",
       "      <td>293.000000</td>\n",
       "      <td>1553.000000</td>\n",
       "      <td>306.000000</td>\n",
       "      <td>245.000000</td>\n",
       "      <td>489.000000</td>\n",
       "      <td>490.000000</td>\n",
       "      <td>334.000000</td>\n",
       "      <td>...</td>\n",
       "      <td>1095.000000</td>\n",
       "      <td>1991.000000</td>\n",
       "      <td>598.000000</td>\n",
       "      <td>459.000000</td>\n",
       "      <td>1379.000000</td>\n",
       "      <td>406.000000</td>\n",
       "      <td>494.000000</td>\n",
       "      <td>1245.000000</td>\n",
       "      <td>216.000000</td>\n",
       "      <td>1009.000000</td>\n",
       "    </tr>\n",
       "  </tbody>\n",
       "</table>\n",
       "<p>8 rows × 91 columns</p>\n",
       "</div>"
      ],
      "text/plain": [
       "       abdominalextensiondepthsitting  acromialheight  acromionradialelength  \\\n",
       "count                     4082.000000     4082.000000            4082.000000   \n",
       "mean                       254.650906     1440.736894             335.244488   \n",
       "std                         37.327178       63.287242              17.482795   \n",
       "min                        163.000000     1194.000000             270.000000   \n",
       "25%                        227.000000     1398.000000             324.000000   \n",
       "50%                        251.000000     1439.000000             335.000000   \n",
       "75%                        279.000000     1481.000000             346.000000   \n",
       "max                        451.000000     1683.000000             393.000000   \n",
       "\n",
       "       anklecircumference  axillaheight  balloffootcircumference  \\\n",
       "count         4082.000000   4082.000000              4082.000000   \n",
       "mean           229.343949   1329.082068               252.017148   \n",
       "std             14.649102     59.516123                12.936131   \n",
       "min            156.000000   1106.000000               186.000000   \n",
       "25%            219.250000   1289.000000               243.000000   \n",
       "50%            228.000000   1328.000000               252.000000   \n",
       "75%            239.000000   1367.000000               261.000000   \n",
       "max            293.000000   1553.000000               306.000000   \n",
       "\n",
       "       balloffootlength  biacromialbreadth  bicepscircumferenceflexed  \\\n",
       "count       4082.000000        4082.000000                4082.000000   \n",
       "mean         200.935081         415.675649                 358.135718   \n",
       "std           10.470947          19.161654                  34.618093   \n",
       "min          156.000000         337.000000                 246.000000   \n",
       "25%          194.000000         403.000000                 335.000000   \n",
       "50%          201.000000         415.000000                 357.000000   \n",
       "75%          208.000000         428.000000                 380.000000   \n",
       "max          245.000000         489.000000                 490.000000   \n",
       "\n",
       "       bicristalbreadth  ...  trochanterionheight  \\\n",
       "count       4082.000000  ...          4082.000000   \n",
       "mean         275.433366  ...           900.930671   \n",
       "std           17.513508  ...            49.171657   \n",
       "min          219.000000  ...           731.000000   \n",
       "25%          263.000000  ...           867.000000   \n",
       "50%          275.000000  ...           899.000000   \n",
       "75%          288.000000  ...           932.000000   \n",
       "max          334.000000  ...          1095.000000   \n",
       "\n",
       "       verticaltrunkcircumferenceusa  waistbacklength  waistbreadth  \\\n",
       "count                    4082.000000      4082.000000   4082.000000   \n",
       "mean                     1664.804263       477.612445    326.437286   \n",
       "std                        89.528418        27.728286     34.738095   \n",
       "min                      1361.000000       383.000000    232.000000   \n",
       "25%                      1605.000000       459.250000    301.000000   \n",
       "50%                      1664.000000       477.000000    325.000000   \n",
       "75%                      1722.750000       495.000000    350.000000   \n",
       "max                      1991.000000       598.000000    459.000000   \n",
       "\n",
       "       waistcircumference   waistdepth  waistfrontlengthsitting  \\\n",
       "count         4082.000000  4082.000000              4082.000000   \n",
       "mean           940.577413   237.771436               387.642822   \n",
       "std            111.705875    34.732597                29.349007   \n",
       "min            648.000000   151.000000               293.000000   \n",
       "25%            857.000000   212.000000               367.000000   \n",
       "50%            937.000000   234.000000               386.000000   \n",
       "75%           1016.000000   261.000000               407.000000   \n",
       "max           1379.000000   406.000000               494.000000   \n",
       "\n",
       "       waistheightomphalion  wristcircumference  wristheight  \n",
       "count           4082.000000         4082.000000  4082.000000  \n",
       "mean            1056.485301          175.916707   847.511514  \n",
       "std               52.154671            8.955055    41.655628  \n",
       "min              876.000000          141.000000   695.000000  \n",
       "25%             1020.000000          170.000000   819.000000  \n",
       "50%             1055.000000          176.000000   847.000000  \n",
       "75%             1090.000000          182.000000   875.000000  \n",
       "max             1245.000000          216.000000  1009.000000  \n",
       "\n",
       "[8 rows x 91 columns]"
      ]
     },
     "execution_count": 8,
     "metadata": {},
     "output_type": "execute_result"
    }
   ],
   "source": [
    "ansur_df.describe()"
   ]
  },
  {
   "cell_type": "code",
   "execution_count": 9,
   "id": "db5f9cae",
   "metadata": {},
   "outputs": [
    {
     "data": {
      "text/plain": [
       "VarianceThreshold(threshold=40)"
      ]
     },
     "execution_count": 9,
     "metadata": {},
     "output_type": "execute_result"
    }
   ],
   "source": [
    "sel = VarianceThreshold(threshold=40)\n",
    "sel.fit(ansur_df)"
   ]
  },
  {
   "cell_type": "code",
   "execution_count": 10,
   "id": "f9bfb9ec",
   "metadata": {},
   "outputs": [
    {
     "name": "stdout",
     "output_type": "stream",
     "text": [
      "[ True  True  True  True  True  True  True  True  True  True  True False\n",
      "  True  True False  True  True  True  True  True  True  True  True  True\n",
      "  True  True  True  True  True False False False  True  True False  True\n",
      "  True  True  True  True  True False  True  True False  True  True  True\n",
      " False  True  True  True  True  True  True  True  True  True False  True\n",
      "  True  True  True  True False  True  True  True  True  True  True  True\n",
      "  True  True  True  True  True  True  True  True False  True  True  True\n",
      "  True  True  True  True  True  True  True]\n"
     ]
    }
   ],
   "source": [
    "mask = sel.get_support()\n",
    "print(mask)"
   ]
  },
  {
   "cell_type": "code",
   "execution_count": 11,
   "id": "585a9152",
   "metadata": {},
   "outputs": [
    {
     "name": "stdout",
     "output_type": "stream",
     "text": [
      "(4082, 79)\n"
     ]
    }
   ],
   "source": [
    "reduced_df = ansur_df.loc[:, mask]\n",
    "print(reduced_df.shape)"
   ]
  },
  {
   "cell_type": "markdown",
   "id": "6a46fdad",
   "metadata": {},
   "source": [
    "## Podemos normalizar a variância para termos um limiar um pouco mais interpretável"
   ]
  },
  {
   "cell_type": "code",
   "execution_count": 12,
   "id": "5bd3f8b0",
   "metadata": {},
   "outputs": [
    {
     "data": {
      "text/plain": [
       "VarianceThreshold(threshold=0.005)"
      ]
     },
     "execution_count": 12,
     "metadata": {},
     "output_type": "execute_result"
    }
   ],
   "source": [
    "sel = VarianceThreshold(threshold=0.005)\n",
    "sel.fit(ansur_df / ansur_df.mean())"
   ]
  },
  {
   "cell_type": "code",
   "execution_count": 13,
   "id": "2f022a34",
   "metadata": {},
   "outputs": [
    {
     "name": "stdout",
     "output_type": "stream",
     "text": [
      "[ True False False False False False False False  True False False False\n",
      " False False False  True  True False False False  True False False  True\n",
      "  True False False  True  True  True False  True  True False False False\n",
      " False  True  True False False False False False False False False False\n",
      "  True False  True False False  True False False False False  True  True\n",
      " False False False False False False False False False False False False\n",
      " False False False False  True  True False False False False False False\n",
      "  True  True  True  True False False False]\n"
     ]
    }
   ],
   "source": [
    "mask = sel.get_support()\n",
    "print(mask)"
   ]
  },
  {
   "cell_type": "code",
   "execution_count": 14,
   "id": "b090585b",
   "metadata": {},
   "outputs": [
    {
     "name": "stdout",
     "output_type": "stream",
     "text": [
      "(4082, 25)\n"
     ]
    }
   ],
   "source": [
    "reduced_df = ansur_df.loc[:, mask]\n",
    "print(reduced_df.shape)"
   ]
  },
  {
   "cell_type": "markdown",
   "id": "30f9be6c",
   "metadata": {},
   "source": [
    "## Outra forma de selecionar variáveis é analisando a proporção de missing. Se uma variável tiver alta proporção de missing, podemos tirar ela do conjunto de dados"
   ]
  },
  {
   "cell_type": "code",
   "execution_count": 15,
   "id": "4cfa34e1",
   "metadata": {},
   "outputs": [],
   "source": [
    "pokemon_df = pd.read_csv(\"../dados/pokemon.csv\")"
   ]
  },
  {
   "cell_type": "code",
   "execution_count": 16,
   "id": "a26e82b3",
   "metadata": {},
   "outputs": [
    {
     "data": {
      "text/html": [
       "<div>\n",
       "<style scoped>\n",
       "    .dataframe tbody tr th:only-of-type {\n",
       "        vertical-align: middle;\n",
       "    }\n",
       "\n",
       "    .dataframe tbody tr th {\n",
       "        vertical-align: top;\n",
       "    }\n",
       "\n",
       "    .dataframe thead th {\n",
       "        text-align: right;\n",
       "    }\n",
       "</style>\n",
       "<table border=\"1\" class=\"dataframe\">\n",
       "  <thead>\n",
       "    <tr style=\"text-align: right;\">\n",
       "      <th></th>\n",
       "      <th>#</th>\n",
       "      <th>Name</th>\n",
       "      <th>Type 1</th>\n",
       "      <th>Type 2</th>\n",
       "      <th>Total</th>\n",
       "      <th>HP</th>\n",
       "      <th>Attack</th>\n",
       "      <th>Defense</th>\n",
       "      <th>Sp. Atk</th>\n",
       "      <th>Sp. Def</th>\n",
       "      <th>Speed</th>\n",
       "      <th>Generation</th>\n",
       "      <th>Legendary</th>\n",
       "    </tr>\n",
       "  </thead>\n",
       "  <tbody>\n",
       "    <tr>\n",
       "      <th>0</th>\n",
       "      <td>1</td>\n",
       "      <td>Bulbasaur</td>\n",
       "      <td>Grass</td>\n",
       "      <td>Poison</td>\n",
       "      <td>318</td>\n",
       "      <td>45</td>\n",
       "      <td>49</td>\n",
       "      <td>49</td>\n",
       "      <td>65</td>\n",
       "      <td>65</td>\n",
       "      <td>45</td>\n",
       "      <td>1</td>\n",
       "      <td>False</td>\n",
       "    </tr>\n",
       "    <tr>\n",
       "      <th>1</th>\n",
       "      <td>2</td>\n",
       "      <td>Ivysaur</td>\n",
       "      <td>Grass</td>\n",
       "      <td>Poison</td>\n",
       "      <td>405</td>\n",
       "      <td>60</td>\n",
       "      <td>62</td>\n",
       "      <td>63</td>\n",
       "      <td>80</td>\n",
       "      <td>80</td>\n",
       "      <td>60</td>\n",
       "      <td>1</td>\n",
       "      <td>False</td>\n",
       "    </tr>\n",
       "    <tr>\n",
       "      <th>2</th>\n",
       "      <td>3</td>\n",
       "      <td>Venusaur</td>\n",
       "      <td>Grass</td>\n",
       "      <td>Poison</td>\n",
       "      <td>525</td>\n",
       "      <td>80</td>\n",
       "      <td>82</td>\n",
       "      <td>83</td>\n",
       "      <td>100</td>\n",
       "      <td>100</td>\n",
       "      <td>80</td>\n",
       "      <td>1</td>\n",
       "      <td>False</td>\n",
       "    </tr>\n",
       "  </tbody>\n",
       "</table>\n",
       "</div>"
      ],
      "text/plain": [
       "   #       Name Type 1  Type 2  Total  HP  Attack  Defense  Sp. Atk  Sp. Def  \\\n",
       "0  1  Bulbasaur  Grass  Poison    318  45      49       49       65       65   \n",
       "1  2    Ivysaur  Grass  Poison    405  60      62       63       80       80   \n",
       "2  3   Venusaur  Grass  Poison    525  80      82       83      100      100   \n",
       "\n",
       "   Speed  Generation  Legendary  \n",
       "0     45           1      False  \n",
       "1     60           1      False  \n",
       "2     80           1      False  "
      ]
     },
     "execution_count": 16,
     "metadata": {},
     "output_type": "execute_result"
    }
   ],
   "source": [
    "pokemon_df.head(3)"
   ]
  },
  {
   "cell_type": "code",
   "execution_count": 17,
   "id": "31652e36",
   "metadata": {},
   "outputs": [
    {
     "data": {
      "text/plain": [
       "#             0.0000\n",
       "Name          0.0000\n",
       "Type 1        0.0000\n",
       "Type 2        0.4825\n",
       "Total         0.0000\n",
       "HP            0.0000\n",
       "Attack        0.0000\n",
       "Defense       0.0000\n",
       "Sp. Atk       0.0000\n",
       "Sp. Def       0.0000\n",
       "Speed         0.0000\n",
       "Generation    0.0000\n",
       "Legendary     0.0000\n",
       "dtype: float64"
      ]
     },
     "execution_count": 17,
     "metadata": {},
     "output_type": "execute_result"
    }
   ],
   "source": [
    "pokemon_df.isna().mean()"
   ]
  },
  {
   "cell_type": "code",
   "execution_count": 19,
   "id": "0b919b7a",
   "metadata": {},
   "outputs": [
    {
     "name": "stdout",
     "output_type": "stream",
     "text": [
      "#              True\n",
      "Name           True\n",
      "Type 1         True\n",
      "Type 2        False\n",
      "Total          True\n",
      "HP             True\n",
      "Attack         True\n",
      "Defense        True\n",
      "Sp. Atk        True\n",
      "Sp. Def        True\n",
      "Speed          True\n",
      "Generation     True\n",
      "Legendary      True\n",
      "dtype: bool\n"
     ]
    }
   ],
   "source": [
    "mask = pokemon_df.isna().mean() < 0.3\n",
    "print(mask)"
   ]
  },
  {
   "cell_type": "code",
   "execution_count": 20,
   "id": "0678cc38",
   "metadata": {},
   "outputs": [
    {
     "data": {
      "text/plain": [
       "(800, 12)"
      ]
     },
     "execution_count": 20,
     "metadata": {},
     "output_type": "execute_result"
    }
   ],
   "source": [
    "reduced_df = pokemon_df.loc[:, mask]\n",
    "reduced_df.shape"
   ]
  },
  {
   "attachments": {
    "image.png": {
     "image/png": "[encoded data removed]"
    }
   },
   "cell_type": "markdown",
   "id": "eff3ce7b",
   "metadata": {},
   "source": [
    "## Outra forma de selecionar variáveis é analisando variáveis fortemente correlacionadas. A correlação de pearson é uma das mais utilizadas mais isso, a interpretação dela é que se a correlação de X e Y é alta, então quanto mais X cresce Y cresce. Por outro lado, se a correlação de X e Y é baixo, então quando mais X cresce Y diminuí.\n",
    "\n",
    "![image.png](attachment:image.png)"
   ]
  },
  {
   "cell_type": "code",
   "execution_count": 31,
   "id": "b954209e",
   "metadata": {},
   "outputs": [],
   "source": [
    "ansur_df = ansur_df[['elbowrestheight', 'wristcircumference', 'anklecircumference', 'buttockheight', 'crotchheight']]"
   ]
  },
  {
   "cell_type": "code",
   "execution_count": 32,
   "id": "68f55ddc",
   "metadata": {},
   "outputs": [
    {
     "data": {
      "text/html": [
       "<div>\n",
       "<style scoped>\n",
       "    .dataframe tbody tr th:only-of-type {\n",
       "        vertical-align: middle;\n",
       "    }\n",
       "\n",
       "    .dataframe tbody tr th {\n",
       "        vertical-align: top;\n",
       "    }\n",
       "\n",
       "    .dataframe thead th {\n",
       "        text-align: right;\n",
       "    }\n",
       "</style>\n",
       "<table border=\"1\" class=\"dataframe\">\n",
       "  <thead>\n",
       "    <tr style=\"text-align: right;\">\n",
       "      <th></th>\n",
       "      <th>elbowrestheight</th>\n",
       "      <th>wristcircumference</th>\n",
       "      <th>anklecircumference</th>\n",
       "      <th>buttockheight</th>\n",
       "      <th>crotchheight</th>\n",
       "    </tr>\n",
       "  </thead>\n",
       "  <tbody>\n",
       "    <tr>\n",
       "      <th>elbowrestheight</th>\n",
       "      <td>1.000000</td>\n",
       "      <td>0.243000</td>\n",
       "      <td>0.277525</td>\n",
       "      <td>-0.083696</td>\n",
       "      <td>-0.141063</td>\n",
       "    </tr>\n",
       "    <tr>\n",
       "      <th>wristcircumference</th>\n",
       "      <td>0.243000</td>\n",
       "      <td>1.000000</td>\n",
       "      <td>0.680787</td>\n",
       "      <td>0.367487</td>\n",
       "      <td>0.336188</td>\n",
       "    </tr>\n",
       "    <tr>\n",
       "      <th>anklecircumference</th>\n",
       "      <td>0.277525</td>\n",
       "      <td>0.680787</td>\n",
       "      <td>1.000000</td>\n",
       "      <td>0.218328</td>\n",
       "      <td>0.224330</td>\n",
       "    </tr>\n",
       "    <tr>\n",
       "      <th>buttockheight</th>\n",
       "      <td>-0.083696</td>\n",
       "      <td>0.367487</td>\n",
       "      <td>0.218328</td>\n",
       "      <td>1.000000</td>\n",
       "      <td>0.906620</td>\n",
       "    </tr>\n",
       "    <tr>\n",
       "      <th>crotchheight</th>\n",
       "      <td>-0.141063</td>\n",
       "      <td>0.336188</td>\n",
       "      <td>0.224330</td>\n",
       "      <td>0.906620</td>\n",
       "      <td>1.000000</td>\n",
       "    </tr>\n",
       "  </tbody>\n",
       "</table>\n",
       "</div>"
      ],
      "text/plain": [
       "                    elbowrestheight  wristcircumference  anklecircumference  \\\n",
       "elbowrestheight            1.000000            0.243000            0.277525   \n",
       "wristcircumference         0.243000            1.000000            0.680787   \n",
       "anklecircumference         0.277525            0.680787            1.000000   \n",
       "buttockheight             -0.083696            0.367487            0.218328   \n",
       "crotchheight              -0.141063            0.336188            0.224330   \n",
       "\n",
       "                    buttockheight  crotchheight  \n",
       "elbowrestheight         -0.083696     -0.141063  \n",
       "wristcircumference       0.367487      0.336188  \n",
       "anklecircumference       0.218328      0.224330  \n",
       "buttockheight            1.000000      0.906620  \n",
       "crotchheight             0.906620      1.000000  "
      ]
     },
     "execution_count": 32,
     "metadata": {},
     "output_type": "execute_result"
    }
   ],
   "source": [
    "# Matriz de correlação\n",
    "ansur_df.corr()"
   ]
  },
  {
   "cell_type": "markdown",
   "id": "566e3d9a",
   "metadata": {},
   "source": [
    "## Visualizando a matriz de correlação através de um roadmap. Quanto mais azul, mais forte é a correlação!"
   ]
  },
  {
   "cell_type": "code",
   "execution_count": 35,
   "id": "154940b8",
   "metadata": {},
   "outputs": [
    {
     "data": {
      "text/plain": [
       "<AxesSubplot:>"
      ]
     },
     "execution_count": 35,
     "metadata": {},
     "output_type": "execute_result"
    },
    {
     "data": {
      "image/png": "[encoded data removed]",
      "text/plain": [
       "<Figure size 432x288 with 2 Axes>"
      ]
     },
     "metadata": {
      "needs_background": "light"
     },
     "output_type": "display_data"
    }
   ],
   "source": [
    "cmap = sns.diverging_palette(h_neg=10, h_pos=240, as_cmap=True)\n",
    "sns.heatmap(ansur_df.corr(), center=0,cmap=cmap, linewidths=1, annot=True, fmt=\".2f\")"
   ]
  },
  {
   "cell_type": "markdown",
   "id": "dd95fe1c",
   "metadata": {},
   "source": [
    "## Como a correção de X e Y é a mesma de Y e X. É suficiente mostrarmos um lado desse gráfico"
   ]
  },
  {
   "cell_type": "code",
   "execution_count": 39,
   "id": "548115e2",
   "metadata": {},
   "outputs": [],
   "source": [
    "corr = ansur_df.corr()\n",
    "mask = np.triu(np.ones_like(corr, dtype=bool))"
   ]
  },
  {
   "cell_type": "code",
   "execution_count": 40,
   "id": "7e5d5f99",
   "metadata": {},
   "outputs": [
    {
     "data": {
      "text/plain": [
       "<AxesSubplot:>"
      ]
     },
     "execution_count": 40,
     "metadata": {},
     "output_type": "execute_result"
    },
    {
     "data": {
      "image/png": "[encoded data removed]",
      "text/plain": [
       "<Figure size 432x288 with 2 Axes>"
      ]
     },
     "metadata": {
      "needs_background": "light"
     },
     "output_type": "display_data"
    }
   ],
   "source": [
    "sns.heatmap(corr, mask=mask,\n",
    "center=0, cmap=cmap, linewidths=1,\n",
    "annot=True, fmt=\".2f\")"
   ]
  },
  {
   "cell_type": "markdown",
   "id": "a8434365",
   "metadata": {},
   "source": [
    "## Para remover as variáveis altamente correlacionadas, primeiro precisamos usar o valor absoluto nas correlações e depois eliminar umas das variáveis correlacionadas"
   ]
  },
  {
   "cell_type": "code",
   "execution_count": 42,
   "id": "a1d4168e",
   "metadata": {},
   "outputs": [],
   "source": [
    "corr_df = corr.abs()"
   ]
  },
  {
   "cell_type": "code",
   "execution_count": 43,
   "id": "7d07450d",
   "metadata": {},
   "outputs": [
    {
     "data": {
      "text/html": [
       "<div>\n",
       "<style scoped>\n",
       "    .dataframe tbody tr th:only-of-type {\n",
       "        vertical-align: middle;\n",
       "    }\n",
       "\n",
       "    .dataframe tbody tr th {\n",
       "        vertical-align: top;\n",
       "    }\n",
       "\n",
       "    .dataframe thead th {\n",
       "        text-align: right;\n",
       "    }\n",
       "</style>\n",
       "<table border=\"1\" class=\"dataframe\">\n",
       "  <thead>\n",
       "    <tr style=\"text-align: right;\">\n",
       "      <th></th>\n",
       "      <th>elbowrestheight</th>\n",
       "      <th>wristcircumference</th>\n",
       "      <th>anklecircumference</th>\n",
       "      <th>buttockheight</th>\n",
       "      <th>crotchheight</th>\n",
       "    </tr>\n",
       "  </thead>\n",
       "  <tbody>\n",
       "    <tr>\n",
       "      <th>elbowrestheight</th>\n",
       "      <td>NaN</td>\n",
       "      <td>NaN</td>\n",
       "      <td>NaN</td>\n",
       "      <td>NaN</td>\n",
       "      <td>NaN</td>\n",
       "    </tr>\n",
       "    <tr>\n",
       "      <th>wristcircumference</th>\n",
       "      <td>0.243000</td>\n",
       "      <td>NaN</td>\n",
       "      <td>NaN</td>\n",
       "      <td>NaN</td>\n",
       "      <td>NaN</td>\n",
       "    </tr>\n",
       "    <tr>\n",
       "      <th>anklecircumference</th>\n",
       "      <td>0.277525</td>\n",
       "      <td>0.680787</td>\n",
       "      <td>NaN</td>\n",
       "      <td>NaN</td>\n",
       "      <td>NaN</td>\n",
       "    </tr>\n",
       "    <tr>\n",
       "      <th>buttockheight</th>\n",
       "      <td>0.083696</td>\n",
       "      <td>0.367487</td>\n",
       "      <td>0.218328</td>\n",
       "      <td>NaN</td>\n",
       "      <td>NaN</td>\n",
       "    </tr>\n",
       "    <tr>\n",
       "      <th>crotchheight</th>\n",
       "      <td>0.141063</td>\n",
       "      <td>0.336188</td>\n",
       "      <td>0.224330</td>\n",
       "      <td>0.90662</td>\n",
       "      <td>NaN</td>\n",
       "    </tr>\n",
       "  </tbody>\n",
       "</table>\n",
       "</div>"
      ],
      "text/plain": [
       "                    elbowrestheight  wristcircumference  anklecircumference  \\\n",
       "elbowrestheight                 NaN                 NaN                 NaN   \n",
       "wristcircumference         0.243000                 NaN                 NaN   \n",
       "anklecircumference         0.277525            0.680787                 NaN   \n",
       "buttockheight              0.083696            0.367487            0.218328   \n",
       "crotchheight               0.141063            0.336188            0.224330   \n",
       "\n",
       "                    buttockheight  crotchheight  \n",
       "elbowrestheight               NaN           NaN  \n",
       "wristcircumference            NaN           NaN  \n",
       "anklecircumference            NaN           NaN  \n",
       "buttockheight                 NaN           NaN  \n",
       "crotchheight              0.90662           NaN  "
      ]
     },
     "execution_count": 43,
     "metadata": {},
     "output_type": "execute_result"
    }
   ],
   "source": [
    "mask = np.triu(np.ones_like(corr_df, dtype=bool))\n",
    "tri_df = corr_df.mask(mask)\n",
    "tri_df"
   ]
  },
  {
   "cell_type": "code",
   "execution_count": 44,
   "id": "67014f37",
   "metadata": {},
   "outputs": [],
   "source": [
    "limiar = 0.9"
   ]
  },
  {
   "cell_type": "code",
   "execution_count": 45,
   "id": "91b1e562",
   "metadata": {},
   "outputs": [
    {
     "name": "stdout",
     "output_type": "stream",
     "text": [
      "['buttockheight']\n"
     ]
    }
   ],
   "source": [
    "to_drop = [c for c in tri_df.columns if any(tri_df[c] > limiar)]\n",
    "print(to_drop)"
   ]
  },
  {
   "cell_type": "code",
   "execution_count": 46,
   "id": "524274c6",
   "metadata": {},
   "outputs": [
    {
     "data": {
      "text/html": [
       "<div>\n",
       "<style scoped>\n",
       "    .dataframe tbody tr th:only-of-type {\n",
       "        vertical-align: middle;\n",
       "    }\n",
       "\n",
       "    .dataframe tbody tr th {\n",
       "        vertical-align: top;\n",
       "    }\n",
       "\n",
       "    .dataframe thead th {\n",
       "        text-align: right;\n",
       "    }\n",
       "</style>\n",
       "<table border=\"1\" class=\"dataframe\">\n",
       "  <thead>\n",
       "    <tr style=\"text-align: right;\">\n",
       "      <th></th>\n",
       "      <th>elbowrestheight</th>\n",
       "      <th>wristcircumference</th>\n",
       "      <th>anklecircumference</th>\n",
       "      <th>crotchheight</th>\n",
       "    </tr>\n",
       "  </thead>\n",
       "  <tbody>\n",
       "    <tr>\n",
       "      <th>0</th>\n",
       "      <td>247</td>\n",
       "      <td>175</td>\n",
       "      <td>222</td>\n",
       "      <td>877</td>\n",
       "    </tr>\n",
       "    <tr>\n",
       "      <th>1</th>\n",
       "      <td>232</td>\n",
       "      <td>167</td>\n",
       "      <td>220</td>\n",
       "      <td>851</td>\n",
       "    </tr>\n",
       "    <tr>\n",
       "      <th>2</th>\n",
       "      <td>237</td>\n",
       "      <td>180</td>\n",
       "      <td>230</td>\n",
       "      <td>854</td>\n",
       "    </tr>\n",
       "    <tr>\n",
       "      <th>3</th>\n",
       "      <td>272</td>\n",
       "      <td>176</td>\n",
       "      <td>230</td>\n",
       "      <td>769</td>\n",
       "    </tr>\n",
       "    <tr>\n",
       "      <th>4</th>\n",
       "      <td>188</td>\n",
       "      <td>188</td>\n",
       "      <td>247</td>\n",
       "      <td>1014</td>\n",
       "    </tr>\n",
       "    <tr>\n",
       "      <th>...</th>\n",
       "      <td>...</td>\n",
       "      <td>...</td>\n",
       "      <td>...</td>\n",
       "      <td>...</td>\n",
       "    </tr>\n",
       "    <tr>\n",
       "      <th>4077</th>\n",
       "      <td>195</td>\n",
       "      <td>163</td>\n",
       "      <td>216</td>\n",
       "      <td>807</td>\n",
       "    </tr>\n",
       "    <tr>\n",
       "      <th>4078</th>\n",
       "      <td>299</td>\n",
       "      <td>178</td>\n",
       "      <td>234</td>\n",
       "      <td>848</td>\n",
       "    </tr>\n",
       "    <tr>\n",
       "      <th>4079</th>\n",
       "      <td>257</td>\n",
       "      <td>178</td>\n",
       "      <td>227</td>\n",
       "      <td>787</td>\n",
       "    </tr>\n",
       "    <tr>\n",
       "      <th>4080</th>\n",
       "      <td>237</td>\n",
       "      <td>172</td>\n",
       "      <td>223</td>\n",
       "      <td>846</td>\n",
       "    </tr>\n",
       "    <tr>\n",
       "      <th>4081</th>\n",
       "      <td>214</td>\n",
       "      <td>182</td>\n",
       "      <td>226</td>\n",
       "      <td>931</td>\n",
       "    </tr>\n",
       "  </tbody>\n",
       "</table>\n",
       "<p>4082 rows × 4 columns</p>\n",
       "</div>"
      ],
      "text/plain": [
       "      elbowrestheight  wristcircumference  anklecircumference  crotchheight\n",
       "0                 247                 175                 222           877\n",
       "1                 232                 167                 220           851\n",
       "2                 237                 180                 230           854\n",
       "3                 272                 176                 230           769\n",
       "4                 188                 188                 247          1014\n",
       "...               ...                 ...                 ...           ...\n",
       "4077              195                 163                 216           807\n",
       "4078              299                 178                 234           848\n",
       "4079              257                 178                 227           787\n",
       "4080              237                 172                 223           846\n",
       "4081              214                 182                 226           931\n",
       "\n",
       "[4082 rows x 4 columns]"
      ]
     },
     "execution_count": 46,
     "metadata": {},
     "output_type": "execute_result"
    }
   ],
   "source": [
    "ansur_df.drop(to_drop, axis=1)"
   ]
  },
  {
   "cell_type": "markdown",
   "id": "88774c11",
   "metadata": {},
   "source": [
    "## Pesquisar VIF para classificação, para regressão já existe um método para isso:\n",
    "https://medium.com/swlh/multicollinearity-and-variance-inflation-factor-bc74af36b1c9\n"
   ]
  }
 ],
 "metadata": {
  "kernelspec": {
   "display_name": "Python 3 (ipykernel)",
   "language": "python",
   "name": "python3"
  },
  "language_info": {
   "codemirror_mode": {
    "name": "ipython",
    "version": 3
   },
   "file_extension": ".py",
   "mimetype": "text/x-python",
   "name": "python",
   "nbconvert_exporter": "python",
   "pygments_lexer": "ipython3",
   "version": "3.9.7"
  }
 },
 "nbformat": 4,
 "nbformat_minor": 5
}
