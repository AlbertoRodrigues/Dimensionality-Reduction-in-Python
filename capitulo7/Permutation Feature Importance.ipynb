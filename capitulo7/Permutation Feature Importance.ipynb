{
 "cells": [
  {
   "cell_type": "markdown",
   "id": "8e10783e",
   "metadata": {},
   "source": [
    "# As features importances que saem dos modelos baseados em árvores têm algumas desvantagens. Esse tipo de score superestima variáveis que são contínuas ou que têm muitos valores únicos, ou seja, variáveis binárias têm seu score diminuído, apesar de serem importantes."
   ]
  },
  {
   "cell_type": "markdown",
   "id": "1ccc33a1",
   "metadata": {},
   "source": [
    "## Nesse caso, existe uma alternativa muita boa, que se chama permutation feature importance. A ideia é simples: treinamos o modelo no conjunto de treinamento e obtemos a pontuação do modelo no conjunto de teste. Essa pontuação será nossa linha de base. Agora, embaralharemos um recurso por vez no conjunto de teste e alimentaremos os dados com o modelo para obter uma nova pontuação. Se o recurso que acabamos de embaralhar for importante, o modelo deve sofrer muito e a pontuação deve cair drasticamente. Por outro lado, se o recurso não for importante, o modelo não deve ser afetado."
   ]
  },
  {
   "cell_type": "code",
   "execution_count": 2,
   "id": "df3f7446",
   "metadata": {},
   "outputs": [],
   "source": [
    "from sklearn.inspection import permutation_importance\n",
    "from sklearn.ensemble import RandomForestClassifier\n",
    "import pandas as pd"
   ]
  },
  {
   "cell_type": "code",
   "execution_count": 3,
   "id": "c412882a",
   "metadata": {},
   "outputs": [],
   "source": [
    "ansur_df = pd.read_csv(\"../dados/ansur_df.csv\")"
   ]
  },
  {
   "cell_type": "code",
   "execution_count": 4,
   "id": "d6b077da",
   "metadata": {},
   "outputs": [
    {
     "name": "stderr",
     "output_type": "stream",
     "text": [
      "C:\\Users\\alber\\anaconda3\\lib\\site-packages\\pandas\\core\\indexing.py:1732: SettingWithCopyWarning: \n",
      "A value is trying to be set on a copy of a slice from a DataFrame\n",
      "\n",
      "See the caveats in the documentation: https://pandas.pydata.org/pandas-docs/stable/user_guide/indexing.html#returning-a-view-versus-a-copy\n",
      "  self._setitem_single_block(indexer, value, name)\n"
     ]
    }
   ],
   "source": [
    "y=ansur_df[\"Gender\"]\n",
    "y.iloc[:2000]=\"Female\"\n",
    "X=ansur_df.select_dtypes(include=[\"int\"])"
   ]
  },
  {
   "cell_type": "code",
   "execution_count": 5,
   "id": "4eecef9a",
   "metadata": {},
   "outputs": [],
   "source": [
    "rf = RandomForestClassifier()"
   ]
  },
  {
   "cell_type": "code",
   "execution_count": 9,
   "id": "e14b339f",
   "metadata": {},
   "outputs": [
    {
     "data": {
      "text/plain": [
       "RandomForestClassifier()"
      ]
     },
     "execution_count": 9,
     "metadata": {},
     "output_type": "execute_result"
    }
   ],
   "source": [
    "rf.fit(X, y)"
   ]
  },
  {
   "cell_type": "code",
   "execution_count": 10,
   "id": "a4397b6f",
   "metadata": {},
   "outputs": [],
   "source": [
    "feature_imp = permutation_importance(rf, X, y, n_repeats=5, scoring=\"precision\", random_state=0)"
   ]
  },
  {
   "cell_type": "markdown",
   "id": "1bb4c038",
   "metadata": {},
   "source": [
    "## Média das 10 repetições, esse método é mais robusto do que o feature importances original."
   ]
  },
  {
   "cell_type": "code",
   "execution_count": 12,
   "id": "6c778c31",
   "metadata": {},
   "outputs": [
    {
     "data": {
      "text/plain": [
       "array([0.00000000e+00, 0.00000000e+00, 0.00000000e+00, 0.00000000e+00,\n",
       "       0.00000000e+00, 0.00000000e+00, 2.44977952e-05, 0.00000000e+00,\n",
       "       0.00000000e+00, 0.00000000e+00, 0.00000000e+00, 0.00000000e+00,\n",
       "       0.00000000e+00, 0.00000000e+00, 0.00000000e+00, 0.00000000e+00,\n",
       "       0.00000000e+00, 0.00000000e+00, 0.00000000e+00, 0.00000000e+00,\n",
       "       0.00000000e+00, 0.00000000e+00, 0.00000000e+00, 0.00000000e+00,\n",
       "       0.00000000e+00, 0.00000000e+00, 0.00000000e+00, 0.00000000e+00,\n",
       "       2.73150416e-02, 2.44977952e-05, 3.18471338e-04, 0.00000000e+00,\n",
       "       0.00000000e+00, 0.00000000e+00, 0.00000000e+00, 0.00000000e+00,\n",
       "       1.71484566e-04, 0.00000000e+00, 0.00000000e+00, 0.00000000e+00,\n",
       "       0.00000000e+00, 0.00000000e+00, 0.00000000e+00, 0.00000000e+00,\n",
       "       0.00000000e+00, 0.00000000e+00, 0.00000000e+00, 0.00000000e+00,\n",
       "       0.00000000e+00, 0.00000000e+00, 0.00000000e+00, 0.00000000e+00,\n",
       "       0.00000000e+00, 0.00000000e+00, 0.00000000e+00, 0.00000000e+00,\n",
       "       0.00000000e+00, 0.00000000e+00, 0.00000000e+00, 0.00000000e+00,\n",
       "       0.00000000e+00, 0.00000000e+00, 0.00000000e+00, 2.39098481e-02,\n",
       "       0.00000000e+00, 0.00000000e+00, 0.00000000e+00, 0.00000000e+00,\n",
       "       0.00000000e+00, 0.00000000e+00, 0.00000000e+00, 0.00000000e+00,\n",
       "       0.00000000e+00, 0.00000000e+00, 0.00000000e+00, 0.00000000e+00,\n",
       "       0.00000000e+00, 0.00000000e+00, 0.00000000e+00, 3.67466928e-04,\n",
       "       0.00000000e+00, 0.00000000e+00, 0.00000000e+00, 0.00000000e+00,\n",
       "       0.00000000e+00, 0.00000000e+00, 0.00000000e+00, 1.56785889e-03,\n",
       "       0.00000000e+00, 0.00000000e+00, 0.00000000e+00])"
      ]
     },
     "execution_count": 12,
     "metadata": {},
     "output_type": "execute_result"
    }
   ],
   "source": [
    "feature_imp.importances_mean"
   ]
  },
  {
   "cell_type": "code",
   "execution_count": null,
   "id": "916a5d69",
   "metadata": {},
   "outputs": [],
   "source": []
  }
 ],
 "metadata": {
  "kernelspec": {
   "display_name": "Python 3 (ipykernel)",
   "language": "python",
   "name": "python3"
  },
  "language_info": {
   "codemirror_mode": {
    "name": "ipython",
    "version": 3
   },
   "file_extension": ".py",
   "mimetype": "text/x-python",
   "name": "python",
   "nbconvert_exporter": "python",
   "pygments_lexer": "ipython3",
   "version": "3.9.7"
  }
 },
 "nbformat": 4,
 "nbformat_minor": 5
}
