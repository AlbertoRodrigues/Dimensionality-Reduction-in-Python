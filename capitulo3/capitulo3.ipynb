{
 "cells": [
  {
   "cell_type": "markdown",
   "id": "d8959d2d",
   "metadata": {},
   "source": [
    "# Métodos de seleção de variáveis abordados nesse capítulo:\n",
    "1. Recursive Feature Elimination\n",
    "2. Seleção de Variáveis baseado em métodos preditivos de Árvore(Random Forest, Gradient Boosting, Tree Decision)\n",
    "3. Emsemble de métodos de seleção de variáveis\n",
    "4. Métodos do scikit learn"
   ]
  },
  {
   "cell_type": "code",
   "execution_count": 33,
   "id": "ac70493e",
   "metadata": {},
   "outputs": [],
   "source": [
    "import pandas as pd\n",
    "from sklearn.model_selection import train_test_split\n",
    "from sklearn.preprocessing import StandardScaler\n",
    "from sklearn.linear_model import LogisticRegression\n",
    "from sklearn.ensemble import RandomForestClassifier\n",
    "from sklearn.feature_selection import RFE"
   ]
  },
  {
   "cell_type": "code",
   "execution_count": 35,
   "id": "0ba61ea3",
   "metadata": {},
   "outputs": [],
   "source": [
    "ansur_df = pd.read_csv(\"../dados/ansur_df.csv\")"
   ]
  },
  {
   "cell_type": "code",
   "execution_count": 36,
   "id": "f3227ea3",
   "metadata": {},
   "outputs": [],
   "source": [
    "#ansur_df = ansur_df[[\"Gender\", \"chestdepth\", \"handlength\", \"neckcircumference\", \"shoulderlength\", \"earlength\"]]\n",
    "ansur_df=ansur_df.select_dtypes(include=[\"int\"])"
   ]
  },
  {
   "cell_type": "code",
   "execution_count": 37,
   "id": "1d16bb5e",
   "metadata": {},
   "outputs": [
    {
     "data": {
      "text/html": [
       "<div>\n",
       "<style scoped>\n",
       "    .dataframe tbody tr th:only-of-type {\n",
       "        vertical-align: middle;\n",
       "    }\n",
       "\n",
       "    .dataframe tbody tr th {\n",
       "        vertical-align: top;\n",
       "    }\n",
       "\n",
       "    .dataframe thead th {\n",
       "        text-align: right;\n",
       "    }\n",
       "</style>\n",
       "<table border=\"1\" class=\"dataframe\">\n",
       "  <thead>\n",
       "    <tr style=\"text-align: right;\">\n",
       "      <th></th>\n",
       "      <th>abdominalextensiondepthsitting</th>\n",
       "      <th>acromialheight</th>\n",
       "      <th>acromionradialelength</th>\n",
       "      <th>anklecircumference</th>\n",
       "      <th>axillaheight</th>\n",
       "      <th>balloffootcircumference</th>\n",
       "      <th>balloffootlength</th>\n",
       "      <th>biacromialbreadth</th>\n",
       "      <th>bicepscircumferenceflexed</th>\n",
       "      <th>bicristalbreadth</th>\n",
       "      <th>...</th>\n",
       "      <th>trochanterionheight</th>\n",
       "      <th>verticaltrunkcircumferenceusa</th>\n",
       "      <th>waistbacklength</th>\n",
       "      <th>waistbreadth</th>\n",
       "      <th>waistcircumference</th>\n",
       "      <th>waistdepth</th>\n",
       "      <th>waistfrontlengthsitting</th>\n",
       "      <th>waistheightomphalion</th>\n",
       "      <th>wristcircumference</th>\n",
       "      <th>wristheight</th>\n",
       "    </tr>\n",
       "  </thead>\n",
       "  <tbody>\n",
       "    <tr>\n",
       "      <th>0</th>\n",
       "      <td>266</td>\n",
       "      <td>1467</td>\n",
       "      <td>337</td>\n",
       "      <td>222</td>\n",
       "      <td>1347</td>\n",
       "      <td>253</td>\n",
       "      <td>202</td>\n",
       "      <td>401</td>\n",
       "      <td>369</td>\n",
       "      <td>274</td>\n",
       "      <td>...</td>\n",
       "      <td>919</td>\n",
       "      <td>1700</td>\n",
       "      <td>501</td>\n",
       "      <td>329</td>\n",
       "      <td>933</td>\n",
       "      <td>240</td>\n",
       "      <td>440</td>\n",
       "      <td>1054</td>\n",
       "      <td>175</td>\n",
       "      <td>853</td>\n",
       "    </tr>\n",
       "    <tr>\n",
       "      <th>1</th>\n",
       "      <td>233</td>\n",
       "      <td>1395</td>\n",
       "      <td>326</td>\n",
       "      <td>220</td>\n",
       "      <td>1293</td>\n",
       "      <td>245</td>\n",
       "      <td>193</td>\n",
       "      <td>394</td>\n",
       "      <td>338</td>\n",
       "      <td>257</td>\n",
       "      <td>...</td>\n",
       "      <td>918</td>\n",
       "      <td>1627</td>\n",
       "      <td>432</td>\n",
       "      <td>316</td>\n",
       "      <td>870</td>\n",
       "      <td>225</td>\n",
       "      <td>371</td>\n",
       "      <td>1054</td>\n",
       "      <td>167</td>\n",
       "      <td>815</td>\n",
       "    </tr>\n",
       "    <tr>\n",
       "      <th>2</th>\n",
       "      <td>287</td>\n",
       "      <td>1430</td>\n",
       "      <td>341</td>\n",
       "      <td>230</td>\n",
       "      <td>1327</td>\n",
       "      <td>256</td>\n",
       "      <td>196</td>\n",
       "      <td>427</td>\n",
       "      <td>408</td>\n",
       "      <td>261</td>\n",
       "      <td>...</td>\n",
       "      <td>918</td>\n",
       "      <td>1678</td>\n",
       "      <td>472</td>\n",
       "      <td>329</td>\n",
       "      <td>964</td>\n",
       "      <td>255</td>\n",
       "      <td>411</td>\n",
       "      <td>1041</td>\n",
       "      <td>180</td>\n",
       "      <td>831</td>\n",
       "    </tr>\n",
       "    <tr>\n",
       "      <th>3</th>\n",
       "      <td>234</td>\n",
       "      <td>1347</td>\n",
       "      <td>310</td>\n",
       "      <td>230</td>\n",
       "      <td>1239</td>\n",
       "      <td>262</td>\n",
       "      <td>199</td>\n",
       "      <td>401</td>\n",
       "      <td>359</td>\n",
       "      <td>262</td>\n",
       "      <td>...</td>\n",
       "      <td>847</td>\n",
       "      <td>1625</td>\n",
       "      <td>461</td>\n",
       "      <td>315</td>\n",
       "      <td>857</td>\n",
       "      <td>205</td>\n",
       "      <td>399</td>\n",
       "      <td>968</td>\n",
       "      <td>176</td>\n",
       "      <td>793</td>\n",
       "    </tr>\n",
       "    <tr>\n",
       "      <th>4</th>\n",
       "      <td>250</td>\n",
       "      <td>1585</td>\n",
       "      <td>372</td>\n",
       "      <td>247</td>\n",
       "      <td>1478</td>\n",
       "      <td>267</td>\n",
       "      <td>224</td>\n",
       "      <td>435</td>\n",
       "      <td>356</td>\n",
       "      <td>263</td>\n",
       "      <td>...</td>\n",
       "      <td>1090</td>\n",
       "      <td>1679</td>\n",
       "      <td>467</td>\n",
       "      <td>303</td>\n",
       "      <td>868</td>\n",
       "      <td>214</td>\n",
       "      <td>379</td>\n",
       "      <td>1245</td>\n",
       "      <td>188</td>\n",
       "      <td>954</td>\n",
       "    </tr>\n",
       "  </tbody>\n",
       "</table>\n",
       "<p>5 rows × 91 columns</p>\n",
       "</div>"
      ],
      "text/plain": [
       "   abdominalextensiondepthsitting  acromialheight  acromionradialelength  \\\n",
       "0                             266            1467                    337   \n",
       "1                             233            1395                    326   \n",
       "2                             287            1430                    341   \n",
       "3                             234            1347                    310   \n",
       "4                             250            1585                    372   \n",
       "\n",
       "   anklecircumference  axillaheight  balloffootcircumference  \\\n",
       "0                 222          1347                      253   \n",
       "1                 220          1293                      245   \n",
       "2                 230          1327                      256   \n",
       "3                 230          1239                      262   \n",
       "4                 247          1478                      267   \n",
       "\n",
       "   balloffootlength  biacromialbreadth  bicepscircumferenceflexed  \\\n",
       "0               202                401                        369   \n",
       "1               193                394                        338   \n",
       "2               196                427                        408   \n",
       "3               199                401                        359   \n",
       "4               224                435                        356   \n",
       "\n",
       "   bicristalbreadth  ...  trochanterionheight  verticaltrunkcircumferenceusa  \\\n",
       "0               274  ...                  919                           1700   \n",
       "1               257  ...                  918                           1627   \n",
       "2               261  ...                  918                           1678   \n",
       "3               262  ...                  847                           1625   \n",
       "4               263  ...                 1090                           1679   \n",
       "\n",
       "   waistbacklength  waistbreadth  waistcircumference  waistdepth  \\\n",
       "0              501           329                 933         240   \n",
       "1              432           316                 870         225   \n",
       "2              472           329                 964         255   \n",
       "3              461           315                 857         205   \n",
       "4              467           303                 868         214   \n",
       "\n",
       "   waistfrontlengthsitting  waistheightomphalion  wristcircumference  \\\n",
       "0                      440                  1054                 175   \n",
       "1                      371                  1054                 167   \n",
       "2                      411                  1041                 180   \n",
       "3                      399                   968                 176   \n",
       "4                      379                  1245                 188   \n",
       "\n",
       "   wristheight  \n",
       "0          853  \n",
       "1          815  \n",
       "2          831  \n",
       "3          793  \n",
       "4          954  \n",
       "\n",
       "[5 rows x 91 columns]"
      ]
     },
     "execution_count": 37,
     "metadata": {},
     "output_type": "execute_result"
    }
   ],
   "source": [
    "ansur_df.head()"
   ]
  },
  {
   "cell_type": "code",
   "execution_count": 22,
   "id": "0cccd190",
   "metadata": {},
   "outputs": [
    {
     "name": "stderr",
     "output_type": "stream",
     "text": [
      "C:\\Users\\alber\\anaconda3\\lib\\site-packages\\pandas\\core\\indexing.py:1817: SettingWithCopyWarning: \n",
      "A value is trying to be set on a copy of a slice from a DataFrame.\n",
      "Try using .loc[row_indexer,col_indexer] = value instead\n",
      "\n",
      "See the caveats in the documentation: https://pandas.pydata.org/pandas-docs/stable/user_guide/indexing.html#returning-a-view-versus-a-copy\n",
      "  self._setitem_single_column(loc, value, pi)\n"
     ]
    }
   ],
   "source": [
    "ansur_df.loc[:2000, \"Gender\"]=\"Female\""
   ]
  },
  {
   "cell_type": "code",
   "execution_count": 10,
   "id": "47d5b9c5",
   "metadata": {},
   "outputs": [],
   "source": [
    "X=ansur_df.drop([\"Gender\"], axis=1)\n",
    "y=ansur_df[\"Gender\"]"
   ]
  },
  {
   "cell_type": "code",
   "execution_count": 23,
   "id": "58c6c599",
   "metadata": {},
   "outputs": [],
   "source": [
    "X_train, X_test, y_train, y_test = train_test_split(X, y, test_size=0.3, stratify=y)"
   ]
  },
  {
   "cell_type": "code",
   "execution_count": 24,
   "id": "a637db53",
   "metadata": {},
   "outputs": [],
   "source": [
    "scaler = StandardScaler()\n",
    "X_train_std = scaler.fit_transform(X_train)"
   ]
  },
  {
   "cell_type": "code",
   "execution_count": 25,
   "id": "b47f1cd7",
   "metadata": {},
   "outputs": [
    {
     "data": {
      "text/plain": [
       "LogisticRegression()"
      ]
     },
     "execution_count": 25,
     "metadata": {},
     "output_type": "execute_result"
    }
   ],
   "source": [
    "lr = LogisticRegression()\n",
    "lr.fit(X_train_std, y_train)"
   ]
  },
  {
   "cell_type": "code",
   "execution_count": 26,
   "id": "72047883",
   "metadata": {},
   "outputs": [
    {
     "name": "stdout",
     "output_type": "stream",
     "text": [
      "{'chestdepth': 0.07861592194188277, 'handlength': 0.016485313743110526, 'neckcircumference': 0.16839904189273017, 'shoulderlength': 0.16104786177910893, 'earlength': 0.4204603949053927}\n"
     ]
    }
   ],
   "source": [
    "print(dict(zip(X.columns, abs(lr.coef_[0]))))"
   ]
  },
  {
   "cell_type": "code",
   "execution_count": 29,
   "id": "38194804",
   "metadata": {},
   "outputs": [
    {
     "name": "stdout",
     "output_type": "stream",
     "text": [
      "Fitting estimator with 5 features.\n",
      "Fitting estimator with 4 features.\n",
      "Fitting estimator with 3 features.\n"
     ]
    },
    {
     "data": {
      "text/plain": [
       "RFE(estimator=LogisticRegression(), n_features_to_select=2, verbose=1)"
      ]
     },
     "execution_count": 29,
     "metadata": {},
     "output_type": "execute_result"
    }
   ],
   "source": [
    "rfe = RFE(estimator=LogisticRegression(), n_features_to_select=2, verbose=1)\n",
    "rfe.fit(X_train_std, y_train)"
   ]
  },
  {
   "cell_type": "code",
   "execution_count": 30,
   "id": "392bf317",
   "metadata": {},
   "outputs": [
    {
     "data": {
      "text/plain": [
       "array([False, False, False,  True,  True])"
      ]
     },
     "execution_count": 30,
     "metadata": {},
     "output_type": "execute_result"
    }
   ],
   "source": [
    "rfe.support_"
   ]
  },
  {
   "cell_type": "code",
   "execution_count": 31,
   "id": "3f2985cd",
   "metadata": {},
   "outputs": [
    {
     "data": {
      "text/plain": [
       "Index(['shoulderlength', 'earlength'], dtype='object')"
      ]
     },
     "execution_count": 31,
     "metadata": {},
     "output_type": "execute_result"
    }
   ],
   "source": [
    "X.columns[rfe.support_]"
   ]
  },
  {
   "cell_type": "code",
   "execution_count": 32,
   "id": "36c53f51",
   "metadata": {},
   "outputs": [
    {
     "name": "stdout",
     "output_type": "stream",
     "text": [
      "{'chestdepth': 3, 'handlength': 4, 'neckcircumference': 2, 'shoulderlength': 1, 'earlength': 1}\n"
     ]
    }
   ],
   "source": [
    "print(dict(zip(X.columns, rfe.ranking_)))"
   ]
  },
  {
   "cell_type": "markdown",
   "id": "eba8ca8c",
   "metadata": {},
   "source": [
    "## Modelos baseados em árvores"
   ]
  },
  {
   "cell_type": "code",
   "execution_count": null,
   "id": "bbed59f7",
   "metadata": {},
   "outputs": [],
   "source": [
    "rf = RandomForestClassifier()\n",
    "rf.fit(X_train, y_train)\n",
    "print(rf.feature_importances_)"
   ]
  },
  {
   "cell_type": "code",
   "execution_count": null,
   "id": "0365a271",
   "metadata": {},
   "outputs": [],
   "source": [
    "mask = rf.feature_importances_ > 0.1\n",
    "print(mask)"
   ]
  },
  {
   "cell_type": "code",
   "execution_count": null,
   "id": "9e1e4466",
   "metadata": {},
   "outputs": [],
   "source": [
    "X_reduced = X.loc[:, mask]\n",
    "print(X_reduced.columns)"
   ]
  },
  {
   "cell_type": "code",
   "execution_count": null,
   "id": "72ac4659",
   "metadata": {},
   "outputs": [],
   "source": [
    "rfe = RFE(estimator=RandomForestClassifier(),\n",
    "n_features_to_select=6, verbose=1)\n",
    "rfe.fit(X_train,y_train)"
   ]
  },
  {
   "cell_type": "code",
   "execution_count": null,
   "id": "c5dd9ca1",
   "metadata": {},
   "outputs": [],
   "source": []
  },
  {
   "cell_type": "code",
   "execution_count": null,
   "id": "5797d71c",
   "metadata": {},
   "outputs": [],
   "source": []
  },
  {
   "cell_type": "code",
   "execution_count": null,
   "id": "8f45f95c",
   "metadata": {},
   "outputs": [],
   "source": []
  },
  {
   "cell_type": "code",
   "execution_count": null,
   "id": "6b76363e",
   "metadata": {},
   "outputs": [],
   "source": []
  }
 ],
 "metadata": {
  "kernelspec": {
   "display_name": "Python 3 (ipykernel)",
   "language": "python",
   "name": "python3"
  },
  "language_info": {
   "codemirror_mode": {
    "name": "ipython",
    "version": 3
   },
   "file_extension": ".py",
   "mimetype": "text/x-python",
   "name": "python",
   "nbconvert_exporter": "python",
   "pygments_lexer": "ipython3",
   "version": "3.9.7"
  }
 },
 "nbformat": 4,
 "nbformat_minor": 5
}
