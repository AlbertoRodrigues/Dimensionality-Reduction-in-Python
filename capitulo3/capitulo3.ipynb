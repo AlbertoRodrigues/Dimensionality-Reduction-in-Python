{
 "cells": [
  {
   "cell_type": "markdown",
   "id": "4add1c4e",
   "metadata": {},
   "source": [
    "# Nesse capítulo, vou explorar alguns métodos de seleção de variáveis univariados em regressão e classificação:\n",
    "## Existem dois jeitos no scikit-learn de fazer essa seleção:\n",
    "1. SelectKBest: Remove todas as variáveis, menos as k variáveis que possuem o maior score de algum método.\n",
    "2. SelectPercentile: Remove todas as variáveis, menos um percentual de variáveis que possuem o maior score de algum método."
   ]
  },
  {
   "cell_type": "code",
   "execution_count": 13,
   "id": "ac08b095",
   "metadata": {},
   "outputs": [],
   "source": [
    "import pandas as pd\n",
    "import numpy as np\n",
    "from sklearn.feature_selection import SelectKBest, SelectPercentile, r_regression, f_regression, f_classif"
   ]
  },
  {
   "cell_type": "code",
   "execution_count": 2,
   "id": "cdbd4df6",
   "metadata": {},
   "outputs": [],
   "source": [
    "ansur_df = pd.read_csv(\"../dados/ansur_df.csv\")"
   ]
  },
  {
   "cell_type": "code",
   "execution_count": 3,
   "id": "8befd7a2",
   "metadata": {},
   "outputs": [],
   "source": [
    "ansur_df=ansur_df.select_dtypes(include=[\"int\"])"
   ]
  },
  {
   "cell_type": "code",
   "execution_count": 4,
   "id": "9a3d1dd7",
   "metadata": {},
   "outputs": [
    {
     "data": {
      "text/html": [
       "<div>\n",
       "<style scoped>\n",
       "    .dataframe tbody tr th:only-of-type {\n",
       "        vertical-align: middle;\n",
       "    }\n",
       "\n",
       "    .dataframe tbody tr th {\n",
       "        vertical-align: top;\n",
       "    }\n",
       "\n",
       "    .dataframe thead th {\n",
       "        text-align: right;\n",
       "    }\n",
       "</style>\n",
       "<table border=\"1\" class=\"dataframe\">\n",
       "  <thead>\n",
       "    <tr style=\"text-align: right;\">\n",
       "      <th></th>\n",
       "      <th>abdominalextensiondepthsitting</th>\n",
       "      <th>acromialheight</th>\n",
       "      <th>acromionradialelength</th>\n",
       "      <th>anklecircumference</th>\n",
       "      <th>axillaheight</th>\n",
       "      <th>balloffootcircumference</th>\n",
       "      <th>balloffootlength</th>\n",
       "      <th>biacromialbreadth</th>\n",
       "      <th>bicepscircumferenceflexed</th>\n",
       "      <th>bicristalbreadth</th>\n",
       "      <th>...</th>\n",
       "      <th>trochanterionheight</th>\n",
       "      <th>verticaltrunkcircumferenceusa</th>\n",
       "      <th>waistbacklength</th>\n",
       "      <th>waistbreadth</th>\n",
       "      <th>waistcircumference</th>\n",
       "      <th>waistdepth</th>\n",
       "      <th>waistfrontlengthsitting</th>\n",
       "      <th>waistheightomphalion</th>\n",
       "      <th>wristcircumference</th>\n",
       "      <th>wristheight</th>\n",
       "    </tr>\n",
       "  </thead>\n",
       "  <tbody>\n",
       "    <tr>\n",
       "      <th>0</th>\n",
       "      <td>266</td>\n",
       "      <td>1467</td>\n",
       "      <td>337</td>\n",
       "      <td>222</td>\n",
       "      <td>1347</td>\n",
       "      <td>253</td>\n",
       "      <td>202</td>\n",
       "      <td>401</td>\n",
       "      <td>369</td>\n",
       "      <td>274</td>\n",
       "      <td>...</td>\n",
       "      <td>919</td>\n",
       "      <td>1700</td>\n",
       "      <td>501</td>\n",
       "      <td>329</td>\n",
       "      <td>933</td>\n",
       "      <td>240</td>\n",
       "      <td>440</td>\n",
       "      <td>1054</td>\n",
       "      <td>175</td>\n",
       "      <td>853</td>\n",
       "    </tr>\n",
       "    <tr>\n",
       "      <th>1</th>\n",
       "      <td>233</td>\n",
       "      <td>1395</td>\n",
       "      <td>326</td>\n",
       "      <td>220</td>\n",
       "      <td>1293</td>\n",
       "      <td>245</td>\n",
       "      <td>193</td>\n",
       "      <td>394</td>\n",
       "      <td>338</td>\n",
       "      <td>257</td>\n",
       "      <td>...</td>\n",
       "      <td>918</td>\n",
       "      <td>1627</td>\n",
       "      <td>432</td>\n",
       "      <td>316</td>\n",
       "      <td>870</td>\n",
       "      <td>225</td>\n",
       "      <td>371</td>\n",
       "      <td>1054</td>\n",
       "      <td>167</td>\n",
       "      <td>815</td>\n",
       "    </tr>\n",
       "    <tr>\n",
       "      <th>2</th>\n",
       "      <td>287</td>\n",
       "      <td>1430</td>\n",
       "      <td>341</td>\n",
       "      <td>230</td>\n",
       "      <td>1327</td>\n",
       "      <td>256</td>\n",
       "      <td>196</td>\n",
       "      <td>427</td>\n",
       "      <td>408</td>\n",
       "      <td>261</td>\n",
       "      <td>...</td>\n",
       "      <td>918</td>\n",
       "      <td>1678</td>\n",
       "      <td>472</td>\n",
       "      <td>329</td>\n",
       "      <td>964</td>\n",
       "      <td>255</td>\n",
       "      <td>411</td>\n",
       "      <td>1041</td>\n",
       "      <td>180</td>\n",
       "      <td>831</td>\n",
       "    </tr>\n",
       "    <tr>\n",
       "      <th>3</th>\n",
       "      <td>234</td>\n",
       "      <td>1347</td>\n",
       "      <td>310</td>\n",
       "      <td>230</td>\n",
       "      <td>1239</td>\n",
       "      <td>262</td>\n",
       "      <td>199</td>\n",
       "      <td>401</td>\n",
       "      <td>359</td>\n",
       "      <td>262</td>\n",
       "      <td>...</td>\n",
       "      <td>847</td>\n",
       "      <td>1625</td>\n",
       "      <td>461</td>\n",
       "      <td>315</td>\n",
       "      <td>857</td>\n",
       "      <td>205</td>\n",
       "      <td>399</td>\n",
       "      <td>968</td>\n",
       "      <td>176</td>\n",
       "      <td>793</td>\n",
       "    </tr>\n",
       "    <tr>\n",
       "      <th>4</th>\n",
       "      <td>250</td>\n",
       "      <td>1585</td>\n",
       "      <td>372</td>\n",
       "      <td>247</td>\n",
       "      <td>1478</td>\n",
       "      <td>267</td>\n",
       "      <td>224</td>\n",
       "      <td>435</td>\n",
       "      <td>356</td>\n",
       "      <td>263</td>\n",
       "      <td>...</td>\n",
       "      <td>1090</td>\n",
       "      <td>1679</td>\n",
       "      <td>467</td>\n",
       "      <td>303</td>\n",
       "      <td>868</td>\n",
       "      <td>214</td>\n",
       "      <td>379</td>\n",
       "      <td>1245</td>\n",
       "      <td>188</td>\n",
       "      <td>954</td>\n",
       "    </tr>\n",
       "  </tbody>\n",
       "</table>\n",
       "<p>5 rows × 91 columns</p>\n",
       "</div>"
      ],
      "text/plain": [
       "   abdominalextensiondepthsitting  acromialheight  acromionradialelength  \\\n",
       "0                             266            1467                    337   \n",
       "1                             233            1395                    326   \n",
       "2                             287            1430                    341   \n",
       "3                             234            1347                    310   \n",
       "4                             250            1585                    372   \n",
       "\n",
       "   anklecircumference  axillaheight  balloffootcircumference  \\\n",
       "0                 222          1347                      253   \n",
       "1                 220          1293                      245   \n",
       "2                 230          1327                      256   \n",
       "3                 230          1239                      262   \n",
       "4                 247          1478                      267   \n",
       "\n",
       "   balloffootlength  biacromialbreadth  bicepscircumferenceflexed  \\\n",
       "0               202                401                        369   \n",
       "1               193                394                        338   \n",
       "2               196                427                        408   \n",
       "3               199                401                        359   \n",
       "4               224                435                        356   \n",
       "\n",
       "   bicristalbreadth  ...  trochanterionheight  verticaltrunkcircumferenceusa  \\\n",
       "0               274  ...                  919                           1700   \n",
       "1               257  ...                  918                           1627   \n",
       "2               261  ...                  918                           1678   \n",
       "3               262  ...                  847                           1625   \n",
       "4               263  ...                 1090                           1679   \n",
       "\n",
       "   waistbacklength  waistbreadth  waistcircumference  waistdepth  \\\n",
       "0              501           329                 933         240   \n",
       "1              432           316                 870         225   \n",
       "2              472           329                 964         255   \n",
       "3              461           315                 857         205   \n",
       "4              467           303                 868         214   \n",
       "\n",
       "   waistfrontlengthsitting  waistheightomphalion  wristcircumference  \\\n",
       "0                      440                  1054                 175   \n",
       "1                      371                  1054                 167   \n",
       "2                      411                  1041                 180   \n",
       "3                      399                   968                 176   \n",
       "4                      379                  1245                 188   \n",
       "\n",
       "   wristheight  \n",
       "0          853  \n",
       "1          815  \n",
       "2          831  \n",
       "3          793  \n",
       "4          954  \n",
       "\n",
       "[5 rows x 91 columns]"
      ]
     },
     "execution_count": 4,
     "metadata": {},
     "output_type": "execute_result"
    }
   ],
   "source": [
    "ansur_df.head()"
   ]
  },
  {
   "cell_type": "code",
   "execution_count": 6,
   "id": "4ef809bc",
   "metadata": {},
   "outputs": [],
   "source": [
    "X=ansur_df.drop([\"abdominalextensiondepthsitting\"], axis=1)\n",
    "y=ansur_df[\"abdominalextensiondepthsitting\"]"
   ]
  },
  {
   "cell_type": "code",
   "execution_count": 8,
   "id": "66289fdd",
   "metadata": {},
   "outputs": [
    {
     "name": "stdout",
     "output_type": "stream",
     "text": [
      "(4082, 90)\n"
     ]
    }
   ],
   "source": [
    "print(X.shape)"
   ]
  },
  {
   "cell_type": "markdown",
   "id": "ef8dd4bf",
   "metadata": {},
   "source": [
    "### A função de score r_regression é usada para problemas de regressão, esse score calcula a correlção de pearson da target com cada variável. Um ponto importante aqui é apenar testar com variáveis numéricas, ou variável númerica e uma binária. Uma das grandes vantagens desse método é que muito rápido."
   ]
  },
  {
   "cell_type": "code",
   "execution_count": 7,
   "id": "8bb4449d",
   "metadata": {},
   "outputs": [],
   "source": [
    "selector = SelectKBest(score_func=r_regression, k=10)"
   ]
  },
  {
   "cell_type": "code",
   "execution_count": 9,
   "id": "31865620",
   "metadata": {},
   "outputs": [],
   "source": [
    "X_new=selector.fit_transform(X, y)"
   ]
  },
  {
   "cell_type": "code",
   "execution_count": 10,
   "id": "d7614236",
   "metadata": {},
   "outputs": [
    {
     "name": "stdout",
     "output_type": "stream",
     "text": [
      "(4082, 10)\n"
     ]
    }
   ],
   "source": [
    "print(X_new.shape)"
   ]
  },
  {
   "cell_type": "markdown",
   "id": "987c6141",
   "metadata": {},
   "source": [
    "### A função de score f_regression é usada para problemas de regressão, esse score calcula o valor-p de um modelo de regressão linear. Quanto maior o valor-p, mais importante é a variável. Aqui podem utilizar tantos variáveis numéricas quanto variável dummy(binárias)"
   ]
  },
  {
   "cell_type": "code",
   "execution_count": 14,
   "id": "36e43ea0",
   "metadata": {},
   "outputs": [],
   "source": [
    "selector = SelectPercentile(score_func=f_regression, percentile=10)"
   ]
  },
  {
   "cell_type": "code",
   "execution_count": 15,
   "id": "9252ce1b",
   "metadata": {},
   "outputs": [],
   "source": [
    "X_new=selector.fit_transform(X, y)"
   ]
  },
  {
   "cell_type": "code",
   "execution_count": 16,
   "id": "1dec5a2e",
   "metadata": {},
   "outputs": [
    {
     "name": "stdout",
     "output_type": "stream",
     "text": [
      "(4082, 9)\n"
     ]
    }
   ],
   "source": [
    "print(X_new.shape)"
   ]
  },
  {
   "cell_type": "markdown",
   "id": "a63d2e71",
   "metadata": {},
   "source": [
    "### A função de score f_classif, é usada para problemas de classificação, esse score calcula o valor-p de um modelo de regressão logística Quanto maior o valor-p, mais importante é a variável. Aqui podem utilizar tantos variáveis numéricas quanto variável dummy(binárias)"
   ]
  },
  {
   "cell_type": "code",
   "execution_count": 17,
   "id": "34cd8ebf",
   "metadata": {},
   "outputs": [],
   "source": [
    "ansur_df = pd.read_csv(\"../dados/ansur_df.csv\")"
   ]
  },
  {
   "cell_type": "code",
   "execution_count": 20,
   "id": "bee402ef",
   "metadata": {},
   "outputs": [],
   "source": [
    "y=ansur_df[\"Gender\"]\n",
    "y.iloc[:2000]=\"Female\"\n",
    "X=ansur_df.select_dtypes(include=[\"int\"])"
   ]
  },
  {
   "cell_type": "code",
   "execution_count": 23,
   "id": "f5127c33",
   "metadata": {},
   "outputs": [],
   "source": [
    "selector = SelectPercentile(score_func=f_classif, percentile=10)"
   ]
  },
  {
   "cell_type": "code",
   "execution_count": 24,
   "id": "85187b2f",
   "metadata": {},
   "outputs": [],
   "source": [
    "X_new=selector.fit_transform(X, y)"
   ]
  },
  {
   "cell_type": "code",
   "execution_count": 25,
   "id": "db20aa5c",
   "metadata": {},
   "outputs": [
    {
     "name": "stdout",
     "output_type": "stream",
     "text": [
      "(4082, 9)\n"
     ]
    }
   ],
   "source": [
    "print(X_new.shape)"
   ]
  },
  {
   "cell_type": "markdown",
   "id": "f5f45e40",
   "metadata": {},
   "source": [
    "# Estudar Boruta e Mutual Information"
   ]
  },
  {
   "cell_type": "code",
   "execution_count": null,
   "id": "630ca3c1",
   "metadata": {},
   "outputs": [],
   "source": []
  },
  {
   "cell_type": "code",
   "execution_count": null,
   "id": "9aa01ccf",
   "metadata": {},
   "outputs": [],
   "source": []
  },
  {
   "cell_type": "code",
   "execution_count": null,
   "id": "3399f516",
   "metadata": {},
   "outputs": [],
   "source": []
  },
  {
   "cell_type": "code",
   "execution_count": null,
   "id": "ea81607b",
   "metadata": {},
   "outputs": [],
   "source": []
  },
  {
   "cell_type": "code",
   "execution_count": null,
   "id": "0886e82a",
   "metadata": {},
   "outputs": [],
   "source": []
  },
  {
   "cell_type": "code",
   "execution_count": null,
   "id": "3c6f1248",
   "metadata": {},
   "outputs": [],
   "source": []
  },
  {
   "cell_type": "code",
   "execution_count": null,
   "id": "1b688fb3",
   "metadata": {},
   "outputs": [],
   "source": []
  },
  {
   "cell_type": "code",
   "execution_count": null,
   "id": "4fa0cb43",
   "metadata": {},
   "outputs": [],
   "source": []
  }
 ],
 "metadata": {
  "kernelspec": {
   "display_name": "Python 3 (ipykernel)",
   "language": "python",
   "name": "python3"
  },
  "language_info": {
   "codemirror_mode": {
    "name": "ipython",
    "version": 3
   },
   "file_extension": ".py",
   "mimetype": "text/x-python",
   "name": "python",
   "nbconvert_exporter": "python",
   "pygments_lexer": "ipython3",
   "version": "3.9.7"
  }
 },
 "nbformat": 4,
 "nbformat_minor": 5
}
