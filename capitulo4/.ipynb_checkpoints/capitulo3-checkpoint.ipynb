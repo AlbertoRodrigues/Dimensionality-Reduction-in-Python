{
 "cells": [
  {
   "cell_type": "markdown",
   "id": "d8959d2d",
   "metadata": {},
   "source": [
    "# Métodos de seleção de variáveis abordados nesse capítulo:\n",
    "1. Recursive Feature Elimination\n",
    "2. Ensemble de métodos de seleção de variáveis\n",
    "3. Recursive Feature Selection"
   ]
  },
  {
   "cell_type": "code",
   "execution_count": 1,
   "id": "ac70493e",
   "metadata": {},
   "outputs": [],
   "source": [
    "import pandas as pd\n",
    "import numpy as np\n",
    "from sklearn.model_selection import train_test_split\n",
    "from sklearn.preprocessing import StandardScaler\n",
    "from sklearn.linear_model import LogisticRegression\n",
    "from sklearn.ensemble import RandomForestClassifier, GradientBoostingClassifier\n",
    "from sklearn.feature_selection import RFE, SequentialFeatureSelector\n",
    "import warnings\n",
    "warnings.filterwarnings('ignore')"
   ]
  },
  {
   "cell_type": "code",
   "execution_count": 2,
   "id": "0ba61ea3",
   "metadata": {},
   "outputs": [],
   "source": [
    "ansur_df = pd.read_csv(\"../dados/ansur_df.csv\")"
   ]
  },
  {
   "cell_type": "code",
   "execution_count": 3,
   "id": "f3227ea3",
   "metadata": {},
   "outputs": [],
   "source": [
    "#ansur_df = ansur_df[[\"Gender\", \"chestdepth\", \"handlength\", \"neckcircumference\", \"shoulderlength\", \"earlength\"]]\n",
    "ansur_df=ansur_df.select_dtypes(include=[\"int\"])"
   ]
  },
  {
   "cell_type": "code",
   "execution_count": 4,
   "id": "1d16bb5e",
   "metadata": {},
   "outputs": [
    {
     "data": {
      "text/html": [
       "<div>\n",
       "<style scoped>\n",
       "    .dataframe tbody tr th:only-of-type {\n",
       "        vertical-align: middle;\n",
       "    }\n",
       "\n",
       "    .dataframe tbody tr th {\n",
       "        vertical-align: top;\n",
       "    }\n",
       "\n",
       "    .dataframe thead th {\n",
       "        text-align: right;\n",
       "    }\n",
       "</style>\n",
       "<table border=\"1\" class=\"dataframe\">\n",
       "  <thead>\n",
       "    <tr style=\"text-align: right;\">\n",
       "      <th></th>\n",
       "      <th>abdominalextensiondepthsitting</th>\n",
       "      <th>acromialheight</th>\n",
       "      <th>acromionradialelength</th>\n",
       "      <th>anklecircumference</th>\n",
       "      <th>axillaheight</th>\n",
       "      <th>balloffootcircumference</th>\n",
       "      <th>balloffootlength</th>\n",
       "      <th>biacromialbreadth</th>\n",
       "      <th>bicepscircumferenceflexed</th>\n",
       "      <th>bicristalbreadth</th>\n",
       "      <th>...</th>\n",
       "      <th>trochanterionheight</th>\n",
       "      <th>verticaltrunkcircumferenceusa</th>\n",
       "      <th>waistbacklength</th>\n",
       "      <th>waistbreadth</th>\n",
       "      <th>waistcircumference</th>\n",
       "      <th>waistdepth</th>\n",
       "      <th>waistfrontlengthsitting</th>\n",
       "      <th>waistheightomphalion</th>\n",
       "      <th>wristcircumference</th>\n",
       "      <th>wristheight</th>\n",
       "    </tr>\n",
       "  </thead>\n",
       "  <tbody>\n",
       "    <tr>\n",
       "      <th>0</th>\n",
       "      <td>266</td>\n",
       "      <td>1467</td>\n",
       "      <td>337</td>\n",
       "      <td>222</td>\n",
       "      <td>1347</td>\n",
       "      <td>253</td>\n",
       "      <td>202</td>\n",
       "      <td>401</td>\n",
       "      <td>369</td>\n",
       "      <td>274</td>\n",
       "      <td>...</td>\n",
       "      <td>919</td>\n",
       "      <td>1700</td>\n",
       "      <td>501</td>\n",
       "      <td>329</td>\n",
       "      <td>933</td>\n",
       "      <td>240</td>\n",
       "      <td>440</td>\n",
       "      <td>1054</td>\n",
       "      <td>175</td>\n",
       "      <td>853</td>\n",
       "    </tr>\n",
       "    <tr>\n",
       "      <th>1</th>\n",
       "      <td>233</td>\n",
       "      <td>1395</td>\n",
       "      <td>326</td>\n",
       "      <td>220</td>\n",
       "      <td>1293</td>\n",
       "      <td>245</td>\n",
       "      <td>193</td>\n",
       "      <td>394</td>\n",
       "      <td>338</td>\n",
       "      <td>257</td>\n",
       "      <td>...</td>\n",
       "      <td>918</td>\n",
       "      <td>1627</td>\n",
       "      <td>432</td>\n",
       "      <td>316</td>\n",
       "      <td>870</td>\n",
       "      <td>225</td>\n",
       "      <td>371</td>\n",
       "      <td>1054</td>\n",
       "      <td>167</td>\n",
       "      <td>815</td>\n",
       "    </tr>\n",
       "    <tr>\n",
       "      <th>2</th>\n",
       "      <td>287</td>\n",
       "      <td>1430</td>\n",
       "      <td>341</td>\n",
       "      <td>230</td>\n",
       "      <td>1327</td>\n",
       "      <td>256</td>\n",
       "      <td>196</td>\n",
       "      <td>427</td>\n",
       "      <td>408</td>\n",
       "      <td>261</td>\n",
       "      <td>...</td>\n",
       "      <td>918</td>\n",
       "      <td>1678</td>\n",
       "      <td>472</td>\n",
       "      <td>329</td>\n",
       "      <td>964</td>\n",
       "      <td>255</td>\n",
       "      <td>411</td>\n",
       "      <td>1041</td>\n",
       "      <td>180</td>\n",
       "      <td>831</td>\n",
       "    </tr>\n",
       "    <tr>\n",
       "      <th>3</th>\n",
       "      <td>234</td>\n",
       "      <td>1347</td>\n",
       "      <td>310</td>\n",
       "      <td>230</td>\n",
       "      <td>1239</td>\n",
       "      <td>262</td>\n",
       "      <td>199</td>\n",
       "      <td>401</td>\n",
       "      <td>359</td>\n",
       "      <td>262</td>\n",
       "      <td>...</td>\n",
       "      <td>847</td>\n",
       "      <td>1625</td>\n",
       "      <td>461</td>\n",
       "      <td>315</td>\n",
       "      <td>857</td>\n",
       "      <td>205</td>\n",
       "      <td>399</td>\n",
       "      <td>968</td>\n",
       "      <td>176</td>\n",
       "      <td>793</td>\n",
       "    </tr>\n",
       "    <tr>\n",
       "      <th>4</th>\n",
       "      <td>250</td>\n",
       "      <td>1585</td>\n",
       "      <td>372</td>\n",
       "      <td>247</td>\n",
       "      <td>1478</td>\n",
       "      <td>267</td>\n",
       "      <td>224</td>\n",
       "      <td>435</td>\n",
       "      <td>356</td>\n",
       "      <td>263</td>\n",
       "      <td>...</td>\n",
       "      <td>1090</td>\n",
       "      <td>1679</td>\n",
       "      <td>467</td>\n",
       "      <td>303</td>\n",
       "      <td>868</td>\n",
       "      <td>214</td>\n",
       "      <td>379</td>\n",
       "      <td>1245</td>\n",
       "      <td>188</td>\n",
       "      <td>954</td>\n",
       "    </tr>\n",
       "  </tbody>\n",
       "</table>\n",
       "<p>5 rows × 91 columns</p>\n",
       "</div>"
      ],
      "text/plain": [
       "   abdominalextensiondepthsitting  acromialheight  acromionradialelength  \\\n",
       "0                             266            1467                    337   \n",
       "1                             233            1395                    326   \n",
       "2                             287            1430                    341   \n",
       "3                             234            1347                    310   \n",
       "4                             250            1585                    372   \n",
       "\n",
       "   anklecircumference  axillaheight  balloffootcircumference  \\\n",
       "0                 222          1347                      253   \n",
       "1                 220          1293                      245   \n",
       "2                 230          1327                      256   \n",
       "3                 230          1239                      262   \n",
       "4                 247          1478                      267   \n",
       "\n",
       "   balloffootlength  biacromialbreadth  bicepscircumferenceflexed  \\\n",
       "0               202                401                        369   \n",
       "1               193                394                        338   \n",
       "2               196                427                        408   \n",
       "3               199                401                        359   \n",
       "4               224                435                        356   \n",
       "\n",
       "   bicristalbreadth  ...  trochanterionheight  verticaltrunkcircumferenceusa  \\\n",
       "0               274  ...                  919                           1700   \n",
       "1               257  ...                  918                           1627   \n",
       "2               261  ...                  918                           1678   \n",
       "3               262  ...                  847                           1625   \n",
       "4               263  ...                 1090                           1679   \n",
       "\n",
       "   waistbacklength  waistbreadth  waistcircumference  waistdepth  \\\n",
       "0              501           329                 933         240   \n",
       "1              432           316                 870         225   \n",
       "2              472           329                 964         255   \n",
       "3              461           315                 857         205   \n",
       "4              467           303                 868         214   \n",
       "\n",
       "   waistfrontlengthsitting  waistheightomphalion  wristcircumference  \\\n",
       "0                      440                  1054                 175   \n",
       "1                      371                  1054                 167   \n",
       "2                      411                  1041                 180   \n",
       "3                      399                   968                 176   \n",
       "4                      379                  1245                 188   \n",
       "\n",
       "   wristheight  \n",
       "0          853  \n",
       "1          815  \n",
       "2          831  \n",
       "3          793  \n",
       "4          954  \n",
       "\n",
       "[5 rows x 91 columns]"
      ]
     },
     "execution_count": 4,
     "metadata": {},
     "output_type": "execute_result"
    }
   ],
   "source": [
    "ansur_df.head()"
   ]
  },
  {
   "cell_type": "code",
   "execution_count": 5,
   "id": "92e33549",
   "metadata": {},
   "outputs": [
    {
     "data": {
      "text/plain": [
       "(4082, 91)"
      ]
     },
     "execution_count": 5,
     "metadata": {},
     "output_type": "execute_result"
    }
   ],
   "source": [
    "ansur_df.shape"
   ]
  },
  {
   "cell_type": "code",
   "execution_count": 6,
   "id": "0cccd190",
   "metadata": {},
   "outputs": [],
   "source": [
    "ansur_df.loc[:2000, \"Gender\"]=\"Female\""
   ]
  },
  {
   "cell_type": "code",
   "execution_count": 7,
   "id": "47d5b9c5",
   "metadata": {},
   "outputs": [],
   "source": [
    "X=ansur_df.drop([\"Gender\"], axis=1)\n",
    "y=ansur_df[\"Gender\"]"
   ]
  },
  {
   "cell_type": "code",
   "execution_count": 8,
   "id": "26b9bab9",
   "metadata": {},
   "outputs": [],
   "source": [
    "y=y.fillna(\"Male\")"
   ]
  },
  {
   "cell_type": "code",
   "execution_count": 9,
   "id": "58c6c599",
   "metadata": {},
   "outputs": [],
   "source": [
    "X_train, X_test, y_train, y_test = train_test_split(X, y, test_size=0.3, stratify=y)"
   ]
  },
  {
   "cell_type": "code",
   "execution_count": 10,
   "id": "a637db53",
   "metadata": {},
   "outputs": [],
   "source": [
    "scaler = StandardScaler()\n",
    "X_train_std = scaler.fit_transform(X_train)"
   ]
  },
  {
   "cell_type": "markdown",
   "id": "ede4dd80",
   "metadata": {},
   "source": [
    "## O método do scikit learn chamado Recursive Feature Elimination(RFE) descarta variáveis baseado em alguns modelos específicos que possuem como atributos coef_ ou feature_importances_. Servem tanto para modelos de regressão ou classificação. Para usar com validação cruzada, existe a função RFECV. Esses modelos geralmente são modelos lineares ou modelos baseados em árvores. Alguns deles são:\n",
    "1. Regressão Linear\n",
    "2. Regressão Lasso\n",
    "3. Regressão Ridge\n",
    "4. Floresta Aleatória\n",
    "5. Árvore de Decisão\n",
    "6. Gradient Tree Boosting\n",
    "7. Regressão Logística"
   ]
  },
  {
   "cell_type": "markdown",
   "id": "9e70422d",
   "metadata": {},
   "source": [
    "### Nesse exemplo, vou usar uma Regressão logística e o RFE já usa automaticamente o atributo coef_ para descartar ou manter as variáveis. Nesse é muito importante que as variáveis estejam na mesma escala para podermos compararmos os valores dos coeficientes."
   ]
  },
  {
   "cell_type": "code",
   "execution_count": 11,
   "id": "38194804",
   "metadata": {},
   "outputs": [
    {
     "data": {
      "text/plain": [
       "RFE(estimator=LogisticRegression(), n_features_to_select=5, step=5)"
      ]
     },
     "execution_count": 11,
     "metadata": {},
     "output_type": "execute_result"
    }
   ],
   "source": [
    "lr = RFE(estimator=LogisticRegression(), n_features_to_select=5, step=5)\n",
    "lr.fit(X_train_std, y_train)"
   ]
  },
  {
   "cell_type": "code",
   "execution_count": 12,
   "id": "392bf317",
   "metadata": {},
   "outputs": [],
   "source": [
    "mask_lr=lr.support_"
   ]
  },
  {
   "cell_type": "code",
   "execution_count": 13,
   "id": "6a74a149",
   "metadata": {},
   "outputs": [
    {
     "name": "stdout",
     "output_type": "stream",
     "text": [
      "Index(['buttockkneelength', 'buttockpopliteallength', 'kneeheightmidpatella',\n",
      "       'lateralfemoralepicondyleheight', 'tibialheight'],\n",
      "      dtype='object')\n"
     ]
    }
   ],
   "source": [
    "X_reduced = X.loc[:, mask_lr]\n",
    "print(X_reduced.columns)"
   ]
  },
  {
   "cell_type": "markdown",
   "id": "eba8ca8c",
   "metadata": {},
   "source": [
    "### Nesse exemplo, vou usar uma Floresta Aleatória e o RFE já usa automaticamente o atributo feature_importances_ para descartar ou manter as variáveis. Nesse é muito importante que as variáveis estejam na mesma escala para podermos compararmos os valores dos coeficientes."
   ]
  },
  {
   "cell_type": "code",
   "execution_count": 14,
   "id": "72ac4659",
   "metadata": {},
   "outputs": [
    {
     "data": {
      "text/plain": [
       "RFE(estimator=RandomForestClassifier(), n_features_to_select=6, step=5)"
      ]
     },
     "execution_count": 14,
     "metadata": {},
     "output_type": "execute_result"
    }
   ],
   "source": [
    "rf = RFE(estimator=RandomForestClassifier(),n_features_to_select=6, step=5)\n",
    "rf.fit(X_train,y_train)"
   ]
  },
  {
   "cell_type": "code",
   "execution_count": 15,
   "id": "0365a271",
   "metadata": {},
   "outputs": [
    {
     "name": "stdout",
     "output_type": "stream",
     "text": [
      "[False False False False False False False False False False False False\n",
      " False False False False False False False False False False False False\n",
      " False  True False False  True False False False False False False False\n",
      " False False False False False False False False False False False False\n",
      " False False False False False False False False False False False False\n",
      " False False False  True False False False False False False False False\n",
      " False False False  True False False False  True False False False False\n",
      " False False False  True False False False]\n"
     ]
    }
   ],
   "source": [
    "mask_rf=rf.support_\n",
    "print(mask_rf)"
   ]
  },
  {
   "cell_type": "code",
   "execution_count": 16,
   "id": "9e1e4466",
   "metadata": {},
   "outputs": [
    {
     "name": "stdout",
     "output_type": "stream",
     "text": [
      "Index(['chestheight', 'crotchlengthposterioromphalion',\n",
      "       'overheadfingertipreachsitting', 'tenthribheight', 'tibialheight',\n",
      "       'waistfrontlengthsitting'],\n",
      "      dtype='object')\n"
     ]
    }
   ],
   "source": [
    "X_reduced = X_train.loc[:, mask_rf]\n",
    "print(X_reduced.columns)"
   ]
  },
  {
   "cell_type": "markdown",
   "id": "491e3e98",
   "metadata": {},
   "source": [
    "### Nesse exemplo, irei usar um GradientBoosting:"
   ]
  },
  {
   "cell_type": "code",
   "execution_count": 17,
   "id": "8f45f95c",
   "metadata": {},
   "outputs": [
    {
     "data": {
      "text/plain": [
       "RFE(estimator=GradientBoostingClassifier(), n_features_to_select=6, step=5)"
      ]
     },
     "execution_count": 17,
     "metadata": {},
     "output_type": "execute_result"
    }
   ],
   "source": [
    "gb = RFE(estimator=GradientBoostingClassifier(),n_features_to_select=6, step=5)\n",
    "gb.fit(X_train,y_train)"
   ]
  },
  {
   "cell_type": "code",
   "execution_count": 18,
   "id": "6b76363e",
   "metadata": {},
   "outputs": [
    {
     "name": "stdout",
     "output_type": "stream",
     "text": [
      "[False False False False False False False False False False False False\n",
      " False False False False False False False False False False False False\n",
      " False  True False False  True False False False False False False False\n",
      " False False False False False False False False False False False False\n",
      " False False False False False False False False False False False False\n",
      " False False False  True False False False False False False False False\n",
      " False False False  True False False False  True False False False False\n",
      " False False False  True False False False]\n"
     ]
    }
   ],
   "source": [
    "mask_gb=gb.support_\n",
    "print(mask_gb)"
   ]
  },
  {
   "cell_type": "code",
   "execution_count": 19,
   "id": "6e3b79c2",
   "metadata": {},
   "outputs": [
    {
     "name": "stdout",
     "output_type": "stream",
     "text": [
      "Index(['chestheight', 'crotchlengthposterioromphalion',\n",
      "       'overheadfingertipreachsitting', 'tenthribheight', 'tibialheight',\n",
      "       'waistfrontlengthsitting'],\n",
      "      dtype='object')\n"
     ]
    }
   ],
   "source": [
    "X_reduced = X_train.loc[:, mask_gb]\n",
    "print(X_reduced.columns)"
   ]
  },
  {
   "cell_type": "markdown",
   "id": "8e7d0a23",
   "metadata": {},
   "source": [
    "## Podemos usar o resultados de vários modelos para selecionar variáveis. Nesse caso, vou descartar variáveis quando pelo menos 2 dos 3 modelos utilizados também descartarem as mesmas variáveis."
   ]
  },
  {
   "cell_type": "code",
   "execution_count": 20,
   "id": "ee9ea00e",
   "metadata": {},
   "outputs": [
    {
     "name": "stdout",
     "output_type": "stream",
     "text": [
      "[0 0 0 0 0 0 0 0 0 0 0 0 0 0 0 0 0 0 1 1 0 0 0 0 0 2 0 0 2 0 0 0 0 0 0 0 0\n",
      " 0 0 0 0 0 0 0 0 0 0 0 0 0 0 0 0 0 0 1 0 1 0 0 0 0 0 2 0 0 0 0 0 0 0 0 0 0\n",
      " 0 2 0 0 0 3 0 0 0 0 0 0 0 2 0 0 0]\n"
     ]
    }
   ],
   "source": [
    "votes = np.sum([mask_lr, mask_rf, mask_gb], axis=0)\n",
    "print(votes)"
   ]
  },
  {
   "cell_type": "code",
   "execution_count": 21,
   "id": "7bd9c839",
   "metadata": {},
   "outputs": [],
   "source": [
    "mask = votes >= 2"
   ]
  },
  {
   "cell_type": "code",
   "execution_count": 22,
   "id": "ab07904a",
   "metadata": {},
   "outputs": [
    {
     "name": "stdout",
     "output_type": "stream",
     "text": [
      "Index(['chestheight', 'crotchlengthposterioromphalion',\n",
      "       'overheadfingertipreachsitting', 'tenthribheight', 'tibialheight',\n",
      "       'waistfrontlengthsitting'],\n",
      "      dtype='object')\n"
     ]
    }
   ],
   "source": [
    "reduced_X = X_train.loc[:, mask]\n",
    "print(X_reduced.columns)"
   ]
  },
  {
   "cell_type": "markdown",
   "id": "e7916afb",
   "metadata": {},
   "source": [
    "# O método Recursive Feature Selector elimina ou adiciona variáveis recursivamente de acordo com alguma métrica de performance selecionada. É sempre feita uma validação cruzada. \n",
    "### Como esse método só adiciona ou remove de uma por uma, dependendo do número do variáveis pode demorar bastante e outros métodos são preferíveis."
   ]
  },
  {
   "cell_type": "code",
   "execution_count": 24,
   "id": "ed31a5b3",
   "metadata": {},
   "outputs": [],
   "source": [
    "X_train=X_train.iloc[:, :15]"
   ]
  },
  {
   "cell_type": "code",
   "execution_count": 25,
   "id": "86154c50",
   "metadata": {},
   "outputs": [
    {
     "data": {
      "text/plain": [
       "SequentialFeatureSelector(estimator=RandomForestClassifier(),\n",
       "                          n_features_to_select=5)"
      ]
     },
     "execution_count": 25,
     "metadata": {},
     "output_type": "execute_result"
    }
   ],
   "source": [
    "sfs = SequentialFeatureSelector(RandomForestClassifier(), n_features_to_select=5, direction=\"forward\")\n",
    "sfs.fit(X_train,y_train)"
   ]
  },
  {
   "cell_type": "code",
   "execution_count": 26,
   "id": "037f54de",
   "metadata": {},
   "outputs": [],
   "source": [
    "mask = sfs.get_support()"
   ]
  },
  {
   "cell_type": "code",
   "execution_count": 28,
   "id": "2e6df074",
   "metadata": {},
   "outputs": [
    {
     "name": "stdout",
     "output_type": "stream",
     "text": [
      "Index(['chestheight', 'crotchlengthposterioromphalion',\n",
      "       'overheadfingertipreachsitting', 'tenthribheight', 'tibialheight',\n",
      "       'waistfrontlengthsitting'],\n",
      "      dtype='object')\n"
     ]
    }
   ],
   "source": [
    "reduced_X = X_train.loc[:, mask]\n",
    "print(X_reduced.columns)"
   ]
  },
  {
   "cell_type": "code",
   "execution_count": null,
   "id": "e2d51188",
   "metadata": {},
   "outputs": [],
   "source": []
  }
 ],
 "metadata": {
  "kernelspec": {
   "display_name": "Python 3 (ipykernel)",
   "language": "python",
   "name": "python3"
  },
  "language_info": {
   "codemirror_mode": {
    "name": "ipython",
    "version": 3
   },
   "file_extension": ".py",
   "mimetype": "text/x-python",
   "name": "python",
   "nbconvert_exporter": "python",
   "pygments_lexer": "ipython3",
   "version": "3.9.7"
  }
 },
 "nbformat": 4,
 "nbformat_minor": 5
}
